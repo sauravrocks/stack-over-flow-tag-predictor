{
 "cells": [
  {
   "cell_type": "code",
   "execution_count": 74,
   "metadata": {},
   "outputs": [],
   "source": [
    "import warnings\n",
    "warnings.filterwarnings(\"ignore\")\n",
    "import pandas as pd\n",
    "import sqlite3\n",
    "import csv\n",
    "import matplotlib.pyplot as plt\n",
    "import seaborn as sns\n",
    "from sklearn import linear_model\n",
    "import numpy as np\n",
    "from keras.callbacks import EarlyStopping, ModelCheckpoint\n",
    "from heapq import nlargest\n",
    "earlystopper = [EarlyStopping(monitor='val_acc', patience=1, verbose=1,restore_best_weights=True)]\n",
    "\n",
    "from wordcloud import WordCloud\n",
    "import re\n",
    "from keras.layers import Dense\n",
    "from keras.layers import LSTM\n",
    "from keras.layers.embeddings import Embedding\n",
    "from keras.preprocessing import sequence\n",
    "from keras.models import Sequential\n",
    "from sklearn.model_selection import GridSearchCV\n",
    "import os\n",
    "from sqlalchemy import create_engine # database connection\n",
    "import datetime as dt\n",
    "from nltk.corpus import stopwords\n",
    "from nltk.tokenize import word_tokenize\n",
    "from nltk.stem.snowball import SnowballStemmer\n",
    "from sklearn.feature_extraction.text import CountVectorizer\n",
    "from sklearn.feature_extraction.text import TfidfVectorizer\n",
    "from sklearn.multiclass import OneVsRestClassifier\n",
    "from sklearn.linear_model import SGDClassifier\n",
    "from sklearn import metrics\n",
    "from sklearn.metrics import f1_score,precision_score,recall_score\n",
    "from sklearn import svm\n",
    "from sklearn.linear_model import LogisticRegression\n",
    "#from skmultilearn.adapt import mlknn\n",
    "#from skmultilearn.problem_transform import ClassifierChain\n",
    "#from skmultilearn.problem_transform import BinaryRelevance\n",
    "#from skmultilearn.problem_transform import LabelPowerset\n",
    "from sklearn.naive_bayes import GaussianNB\n",
    "from datetime import datetime\n",
    "from sklearn.ensemble import RandomForestClassifier"
   ]
  },
  {
   "cell_type": "code",
   "execution_count": 75,
   "metadata": {},
   "outputs": [
    {
     "name": "stdout",
     "output_type": "stream",
     "text": [
      "Tables in the databse:\n",
      "QuestionsProcessed\n",
      "Tables in the databse:\n",
      "QuestionsProcessed\n"
     ]
    }
   ],
   "source": [
    "#http://www.sqlitetutorial.net/sqlite-python/create-tables/\n",
    "def create_connection(db_file):\n",
    "    \"\"\" create a database connection to the SQLite database\n",
    "        specified by db_file\n",
    "    :param db_file: database file\n",
    "    :return: Connection object or None\n",
    "    \"\"\"\n",
    "    try:\n",
    "        conn = sqlite3.connect(db_file)\n",
    "        return conn\n",
    "    except Error as e:\n",
    "        print(e)\n",
    " \n",
    "    return None\n",
    "\n",
    "def create_table(conn, create_table_sql):\n",
    "    \"\"\" create a table from the create_table_sql statement\n",
    "    :param conn: Connection object\n",
    "    :param create_table_sql: a CREATE TABLE statement\n",
    "    :return:\n",
    "    \"\"\"\n",
    "    try:\n",
    "        c = conn.cursor()\n",
    "        c.execute(create_table_sql)\n",
    "    except Error as e:\n",
    "        print(e)\n",
    "        \n",
    "def checkTableExists(dbcon):\n",
    "    cursr = dbcon.cursor()\n",
    "    str = \"select name from sqlite_master where type='table'\"\n",
    "    table_names = cursr.execute(str)\n",
    "    print(\"Tables in the databse:\")\n",
    "    tables =table_names.fetchall() \n",
    "    print(tables[0][0])\n",
    "    return(len(tables))\n",
    "\n",
    "def create_database_table(database, query):\n",
    "    conn = create_connection(database)\n",
    "    if conn is not None:\n",
    "        create_table(conn, query)\n",
    "        checkTableExists(conn)\n",
    "    else:\n",
    "        print(\"Error! cannot create the database connection.\")\n",
    "    conn.close()\n",
    "\n",
    "sql_create_table = \"\"\"CREATE TABLE IF NOT EXISTS QuestionsProcessed (question text NOT NULL, code text, tags text, words_pre integer, words_post integer, is_code integer);\"\"\"\n",
    "create_database_table(\"Processed.db\", sql_create_table)\n",
    "\n",
    "\n",
    "def tags_to_choose(n):\n",
    "    t = multilabel_y.sum(axis=0).tolist()[0]\n",
    "    sorted_tags_i = sorted(range(len(t)), key=lambda i: t[i], reverse=True)\n",
    "    multilabel_yn=multilabel_y[:,sorted_tags_i[:n]]\n",
    "    return multilabel_yn\n",
    "\n",
    "def questions_explained_fn(n):\n",
    "    multilabel_yn = tags_to_choose(n)\n",
    "    x= multilabel_yn.sum(axis=1)\n",
    "    return (np.count_nonzero(x==0))\n",
    "\n",
    "sql_create_table = \"\"\"CREATE TABLE IF NOT EXISTS QuestionsProcessed (question text NOT NULL, code text, tags text, words_pre integer, words_post integer, is_code integer);\"\"\"\n",
    "create_database_table(\"Titlemoreweight.db\", sql_create_table)\n",
    "\n",
    "\n",
    "def generate_data(sample):\n",
    "  dict={}\n",
    "  for t in sample['Text']:\n",
    "    j=t.split()\n",
    "    for item in j:\n",
    "      try:\n",
    "        dict[item]=dict[item]+1\n",
    "      except KeyError as e:\n",
    "        dict[item]=1\n",
    "  \n",
    "  dict_sorted_keys = sorted(dict, key=dict.get, reverse=True)\n",
    "  list_of_review=[]\n",
    "  for t in sample['Text']:\n",
    "    j=t.split()\n",
    "    temp=[]\n",
    "    for item in j:\n",
    "      index=dict_sorted_keys.index(item)\n",
    "      if(index<top_words):\n",
    "        temp.append(index)\n",
    "      else:\n",
    "        temp.append(0)\n",
    "    list_of_review.append(temp)\n",
    "  return list_of_review\n",
    "\n",
    "def plot_bar_x(index,no_movies,item):\n",
    "    # this is for plotting purpose\n",
    "   # index = np.arange(len(label))\n",
    "    plt.bar(index, no_movies)\n",
    "    plt.xlabel('class_label', fontsize=10)\n",
    "    plt.ylabel('feature = ' + item)\n",
    "    plt.xticks(index, fontsize=10, rotation=30)\n",
    "    plt.title('EDA')\n",
    "    plt.show()\n"
   ]
  },
  {
   "cell_type": "code",
   "execution_count": 64,
   "metadata": {},
   "outputs": [],
   "source": [
    "#Taking 0.5 Million entries to a dataframe.\n",
    "write_db = 'Titlemoreweight.db'\n",
    "if os.path.isfile(write_db):\n",
    "    conn_r = create_connection(write_db)\n",
    "    if conn_r is not None:\n",
    "        preprocessed_data = pd.read_sql_query(\"\"\"SELECT question, Tags FROM QuestionsProcessed\"\"\", conn_r)\n",
    "conn_r.commit()\n",
    "conn_r.close()"
   ]
  },
  {
   "cell_type": "code",
   "execution_count": 48,
   "metadata": {
    "scrolled": true
   },
   "outputs": [],
   "source": [
    "preprocessed_data.head()\n",
    "preprocessed_data = preprocessed_data.head(10000)"
   ]
  },
  {
   "cell_type": "code",
   "execution_count": 49,
   "metadata": {},
   "outputs": [
    {
     "name": "stdout",
     "output_type": "stream",
     "text": [
      "number of data points in sample : 10000\n",
      "number of dimensions : 2\n"
     ]
    }
   ],
   "source": [
    "print(\"number of data points in sample :\", preprocessed_data.shape[0])\n",
    "print(\"number of dimensions :\", preprocessed_data.shape[1])"
   ]
  },
  {
   "cell_type": "code",
   "execution_count": 50,
   "metadata": {},
   "outputs": [],
   "source": [
    "vectorizer = CountVectorizer(tokenizer = lambda x: x.split(), binary='true')\n",
    "multilabel_y = vectorizer.fit_transform(preprocessed_data['tags'])"
   ]
  },
  {
   "cell_type": "code",
   "execution_count": 51,
   "metadata": {},
   "outputs": [],
   "source": [
    "questions_explained = []\n",
    "total_tags=multilabel_y.shape[1]\n",
    "total_qs=preprocessed_data.shape[0]\n",
    "for i in range(500, total_tags, 100):\n",
    "    questions_explained.append(np.round(((total_qs-questions_explained_fn(i))/total_qs)*100,3))"
   ]
  },
  {
   "cell_type": "markdown",
   "metadata": {},
   "source": [
    "fig, ax = plt.subplots()\n",
    "ax.plot(questions_explained)\n",
    "xlabel = list(500+np.array(range(-50,450,50))*50)\n",
    "ax.set_xticklabels(xlabel)\n",
    "plt.xlabel(\"Number of tags\")\n",
    "plt.ylabel(\"Number Questions coverd partially\")\n",
    "plt.grid()\n",
    "plt.show()\n",
    "# you can choose any number of tags based on your computing power, minimun is 500(it covers 90% of the tags)\n",
    "print(\"with \",5500,\"tags we are covering \",questions_explained[50],\"% of questions\")\n",
    "print(\"with \",500,\"tags we are covering \",questions_explained[0],\"% of questions\")"
   ]
  },
  {
   "cell_type": "code",
   "execution_count": 52,
   "metadata": {},
   "outputs": [
    {
     "name": "stdout",
     "output_type": "stream",
     "text": [
      "number of questions that are not covered : 900 out of  10000\n"
     ]
    }
   ],
   "source": [
    "# we will be taking 500 tags\n",
    "multilabel_yx = tags_to_choose(500)\n",
    "print(\"number of questions that are not covered :\", questions_explained_fn(500),\"out of \", total_qs)"
   ]
  },
  {
   "cell_type": "code",
   "execution_count": 53,
   "metadata": {},
   "outputs": [],
   "source": [
    "train_datasize = 8000\n",
    "x_train=preprocessed_data.head(train_datasize)\n",
    "x_test=preprocessed_data.tail(preprocessed_data.shape[0] - train_datasize)\n",
    "\n",
    "y_train = multilabel_yx[0:train_datasize,:]\n",
    "y_test = multilabel_yx[train_datasize:preprocessed_data.shape[0],:]"
   ]
  },
  {
   "cell_type": "code",
   "execution_count": 54,
   "metadata": {},
   "outputs": [
    {
     "name": "stdout",
     "output_type": "stream",
     "text": [
      "(8000, 500)\n",
      "(2000, 500)\n",
      "(2000, 2)\n"
     ]
    }
   ],
   "source": [
    "print(y_train.shape)\n",
    "print(y_test.shape)\n",
    "print(x_test.shape)"
   ]
  },
  {
   "cell_type": "code",
   "execution_count": 55,
   "metadata": {},
   "outputs": [
    {
     "name": "stdout",
     "output_type": "stream",
     "text": [
      "Number of data points in train data : (8000, 500)\n",
      "Number of data points in test data : (2000, 500)\n"
     ]
    }
   ],
   "source": [
    "print(\"Number of data points in train data :\", y_train.shape)\n",
    "print(\"Number of data points in test data :\", y_test.shape)"
   ]
  },
  {
   "cell_type": "code",
   "execution_count": null,
   "metadata": {},
   "outputs": [],
   "source": []
  },
  {
   "cell_type": "code",
   "execution_count": 56,
   "metadata": {},
   "outputs": [],
   "source": [
    "tags = preprocessed_data['tags']\n",
    "dict={}\n",
    "for item in tags:\n",
    "    taglist = item.split()\n",
    "    for i in taglist:\n",
    "        if i in dict.keys():\n",
    "            dict[i] = dict[i]+1\n",
    "        else:\n",
    "            dict[i] = 1"
   ]
  },
  {
   "cell_type": "code",
   "execution_count": 57,
   "metadata": {},
   "outputs": [],
   "source": [
    "n_largest = sorted(dict, key=lambda k: dict[k],reverse=True)[0:10]"
   ]
  },
  {
   "cell_type": "code",
   "execution_count": 58,
   "metadata": {},
   "outputs": [
    {
     "data": {
      "text/plain": [
       "['c#',\n",
       " 'java',\n",
       " 'javascript',\n",
       " 'android',\n",
       " 'php',\n",
       " 'c++',\n",
       " '.net',\n",
       " 'asp.net',\n",
       " 'python',\n",
       " 'jquery']"
      ]
     },
     "execution_count": 58,
     "metadata": {},
     "output_type": "execute_result"
    }
   ],
   "source": [
    "n_largest"
   ]
  },
  {
   "cell_type": "code",
   "execution_count": null,
   "metadata": {},
   "outputs": [],
   "source": []
  },
  {
   "cell_type": "markdown",
   "metadata": {},
   "source": [
    "# EDA \n",
    "1) Taken top features and top class label and plotted the count bar graph."
   ]
  },
  {
   "cell_type": "code",
   "execution_count": 60,
   "metadata": {},
   "outputs": [],
   "source": [
    "tfidf = TfidfVectorizer(max_features=500,stop_words = \"english\")\n",
    "response = tfidf.fit_transform(preprocessed_data['question'])\n",
    "\n",
    "feature_array = np.array(tfidf.get_feature_names())\n",
    "tfidf_sorting = np.argsort(response.toarray()).flatten()[::-1]\n",
    "\n",
    "n = 10\n"
   ]
  },
  {
   "cell_type": "code",
   "execution_count": 61,
   "metadata": {},
   "outputs": [
    {
     "data": {
      "text/plain": [
       "array(['button', 'work', 'tab', 'replac', 'activ', 'avail', 'custom',\n",
       "       'tri', 'view', 'appreci'], dtype='<U11')"
      ]
     },
     "execution_count": 61,
     "metadata": {},
     "output_type": "execute_result"
    }
   ],
   "source": [
    "top_n = feature_array[tfidf_sorting][:n]\n",
    "top_n"
   ]
  },
  {
   "cell_type": "code",
   "execution_count": 73,
   "metadata": {},
   "outputs": [
    {
     "name": "stdout",
     "output_type": "stream",
     "text": [
      "\n"
     ]
    },
    {
     "data": {
      "image/png": "[encoded data removed]",
      "text/plain": [
       "<Figure size 432x288 with 1 Axes>"
      ]
     },
     "metadata": {},
     "output_type": "display_data"
    },
    {
     "data": {
      "image/png": "[encoded data removed]",
      "text/plain": [
       "<Figure size 432x288 with 1 Axes>"
      ]
     },
     "metadata": {},
     "output_type": "display_data"
    },
    {
     "data": {
      "image/png": "[encoded data removed]",
      "text/plain": [
       "<Figure size 432x288 with 1 Axes>"
      ]
     },
     "metadata": {},
     "output_type": "display_data"
    },
    {
     "data": {
      "image/png": "[encoded data removed]",
      "text/plain": [
       "<Figure size 432x288 with 1 Axes>"
      ]
     },
     "metadata": {},
     "output_type": "display_data"
    },
    {
     "data": {
      "image/png": "[encoded data removed]",
      "text/plain": [
       "<Figure size 432x288 with 1 Axes>"
      ]
     },
     "metadata": {},
     "output_type": "display_data"
    },
    {
     "data": {
      "image/png": "[encoded data removed]",
      "text/plain": [
       "<Figure size 432x288 with 1 Axes>"
      ]
     },
     "metadata": {},
     "output_type": "display_data"
    },
    {
     "data": {
      "image/png": "[encoded data removed]",
      "text/plain": [
       "<Figure size 432x288 with 1 Axes>"
      ]
     },
     "metadata": {},
     "output_type": "display_data"
    },
    {
     "data": {
      "image/png": "[encoded data removed]",
      "text/plain": [
       "<Figure size 432x288 with 1 Axes>"
      ]
     },
     "metadata": {},
     "output_type": "display_data"
    },
    {
     "data": {
      "image/png": "[encoded data removed]",
      "text/plain": [
       "<Figure size 432x288 with 1 Axes>"
      ]
     },
     "metadata": {},
     "output_type": "display_data"
    },
    {
     "data": {
      "image/png": "[encoded data removed]",
      "text/plain": [
       "<Figure size 432x288 with 1 Axes>"
      ]
     },
     "metadata": {},
     "output_type": "display_data"
    }
   ],
   "source": [
    "c"
   ]
  },
  {
   "cell_type": "markdown",
   "metadata": {},
   "source": [
    "# sgd classifier"
   ]
  },
  {
   "cell_type": "code",
   "execution_count": null,
   "metadata": {},
   "outputs": [],
   "source": []
  },
  {
   "cell_type": "code",
   "execution_count": 12,
   "metadata": {},
   "outputs": [
    {
     "name": "stdout",
     "output_type": "stream",
     "text": [
      "Time taken to run this cell : 0:00:06.466981\n"
     ]
    }
   ],
   "source": [
    "start = datetime.now()\n",
    "#vectorizer = TfidfVectorizer(min_df=0.00009, max_features=200000, smooth_idf=True, norm=\"l2\", \\\n",
    "#                             tokenizer = lambda x: x.split(), sublinear_tf=False, ngram_range=(1,3))\n",
    "                             \n",
    "\n",
    "vectorizer = CountVectorizer(min_df=0.00009, max_features=200, \\\n",
    "                             tokenizer = lambda x: x.split(), ngram_range=(1,4))\n",
    "x_train_multilabel = vectorizer.fit_transform(x_train['question'])\n",
    "x_test_multilabel = vectorizer.fit_transform(x_test['question'])\n",
    "print(\"Time taken to run this cell :\", datetime.now() - start)"
   ]
  },
  {
   "cell_type": "code",
   "execution_count": 13,
   "metadata": {},
   "outputs": [
    {
     "name": "stdout",
     "output_type": "stream",
     "text": [
      "Accuracy : 0.017\n",
      "Hamming loss  0.016582\n",
      "Micro-average quality numbers\n",
      "Precision: 0.0081, Recall: 0.0292, F1-measure: 0.0127\n",
      "Macro-average quality numbers\n",
      "Precision: 0.0044, Recall: 0.0103, F1-measure: 0.0051\n",
      "              precision    recall  f1-score   support\n",
      "\n",
      "           0       0.04      0.08      0.05        97\n",
      "           1       0.04      0.02      0.03       140\n",
      "           2       0.08      0.02      0.04       125\n",
      "           3       0.10      0.10      0.10        91\n",
      "           4       0.06      0.06      0.06        88\n",
      "           5       0.08      0.08      0.08       136\n",
      "           6       0.00      0.00      0.00        25\n",
      "           7       0.02      0.07      0.03        27\n",
      "           8       0.00      0.00      0.00        88\n",
      "           9       0.06      0.05      0.06        81\n",
      "          10       0.05      0.03      0.04        61\n",
      "          11       0.02      0.01      0.01        82\n",
      "          12       0.01      0.03      0.02        40\n",
      "          13       0.03      0.09      0.05        34\n",
      "          14       0.10      0.09      0.09        89\n",
      "          15       0.05      0.04      0.05        46\n",
      "          16       0.03      0.05      0.03        39\n",
      "          17       0.05      0.18      0.08        22\n",
      "          18       0.10      0.05      0.07        57\n",
      "          19       0.00      0.00      0.00        45\n",
      "          20       0.05      0.10      0.07        21\n",
      "          21       0.00      0.00      0.00        56\n",
      "          22       0.00      0.00      0.00        18\n",
      "          23       0.03      0.10      0.05        30\n",
      "          24       0.00      0.00      0.00        11\n",
      "          25       0.00      0.00      0.00        29\n",
      "          26       0.02      0.11      0.03         9\n",
      "          27       0.15      0.08      0.10        39\n",
      "          28       0.00      0.00      0.00         9\n",
      "          29       0.00      0.00      0.00        16\n",
      "          30       0.01      0.04      0.02        23\n",
      "          31       0.08      0.03      0.05        29\n",
      "          32       0.00      0.00      0.00        21\n",
      "          33       0.00      0.00      0.00         6\n",
      "          34       0.00      0.00      0.00        45\n",
      "          35       0.00      0.00      0.00        29\n",
      "          36       0.00      0.00      0.00        10\n",
      "          37       0.00      0.00      0.00         8\n",
      "          38       0.00      0.00      0.00         8\n",
      "          39       0.03      0.12      0.05        17\n",
      "          40       0.00      0.00      0.00        11\n",
      "          41       0.03      0.11      0.05         9\n",
      "          42       0.00      0.00      0.00         7\n",
      "          43       0.00      0.00      0.00         4\n",
      "          44       0.00      0.00      0.00         7\n",
      "          45       0.00      0.00      0.00         7\n",
      "          46       0.05      0.04      0.04        28\n",
      "          47       0.00      0.00      0.00         2\n",
      "          48       0.02      0.29      0.03         7\n",
      "          49       0.00      0.00      0.00         7\n",
      "          50       0.00      0.00      0.00        10\n",
      "          51       0.00      0.00      0.00        11\n",
      "          52       0.00      0.00      0.00        12\n",
      "          53       0.00      0.00      0.00         6\n",
      "          54       0.00      0.00      0.00         9\n",
      "          55       0.00      0.00      0.00         0\n",
      "          56       0.00      0.00      0.00         7\n",
      "          57       0.04      0.07      0.05        14\n",
      "          58       0.00      0.00      0.00        29\n",
      "          59       0.00      0.00      0.00        18\n",
      "          60       0.00      0.00      0.00        13\n",
      "          61       0.00      0.00      0.00         5\n",
      "          62       0.06      0.18      0.09        11\n",
      "          63       0.00      0.00      0.00         6\n",
      "          64       0.00      0.00      0.00        17\n",
      "          65       0.00      0.00      0.00        11\n",
      "          66       0.00      0.00      0.00        14\n",
      "          67       0.00      0.00      0.00         9\n",
      "          68       0.00      0.00      0.00        14\n",
      "          69       0.00      0.00      0.00        18\n",
      "          70       0.00      0.00      0.00        13\n",
      "          71       0.00      0.00      0.00        15\n",
      "          72       0.03      0.09      0.04        11\n",
      "          73       0.00      0.00      0.00         9\n",
      "          74       0.00      0.00      0.00         9\n",
      "          75       0.00      0.00      0.00         2\n",
      "          76       0.00      0.00      0.00        23\n",
      "          77       0.00      0.00      0.00         7\n",
      "          78       0.00      0.00      0.00         2\n",
      "          79       0.00      0.00      0.00         7\n",
      "          80       0.00      0.00      0.00         8\n",
      "          81       0.02      0.10      0.04        10\n",
      "          82       0.00      0.00      0.00        12\n",
      "          83       0.00      0.00      0.00         6\n",
      "          84       0.00      0.00      0.00         2\n",
      "          85       0.00      0.00      0.00         9\n",
      "          86       0.00      0.00      0.00         6\n",
      "          87       0.00      0.00      0.00         4\n",
      "          88       0.00      0.00      0.00         2\n",
      "          89       0.00      0.00      0.00         8\n",
      "          90       0.00      0.00      0.00         8\n",
      "          91       0.00      0.00      0.00         5\n",
      "          92       0.00      0.00      0.00         9\n",
      "          93       0.00      0.00      0.00        12\n",
      "          94       0.00      0.00      0.00         2\n",
      "          95       0.00      0.00      0.00         7\n",
      "          96       0.00      0.00      0.00        13\n",
      "          97       0.00      0.00      0.00        18\n",
      "          98       0.00      0.00      0.00         0\n",
      "          99       0.00      0.00      0.00         9\n",
      "         100       0.00      0.00      0.00         6\n",
      "         101       0.00      0.00      0.00        10\n",
      "         102       0.00      0.00      0.00        12\n",
      "         103       0.00      0.00      0.00         4\n",
      "         104       0.02      0.10      0.04        10\n",
      "         105       0.00      0.00      0.00         2\n",
      "         106       0.08      0.25      0.12         8\n",
      "         107       0.00      0.00      0.00        10\n",
      "         108       0.00      0.00      0.00        10\n",
      "         109       0.00      0.00      0.00         2\n",
      "         110       0.00      0.00      0.00         7\n",
      "         111       0.00      0.00      0.00        16\n",
      "         112       0.00      0.00      0.00         6\n",
      "         113       0.00      0.00      0.00         8\n",
      "         114       0.00      0.00      0.00         4\n",
      "         115       0.00      0.00      0.00         2\n",
      "         116       0.00      0.00      0.00        11\n",
      "         117       0.00      0.00      0.00         5\n",
      "         118       0.03      0.14      0.05         7\n",
      "         119       0.00      0.00      0.00        15\n",
      "         120       0.00      0.00      0.00         4\n",
      "         121       0.00      0.00      0.00        14\n",
      "         122       0.00      0.00      0.00         4\n",
      "         123       0.00      0.00      0.00         5\n",
      "         124       0.00      0.00      0.00         2\n",
      "         125       0.00      0.00      0.00         7\n",
      "         126       0.00      0.00      0.00         3\n",
      "         127       0.06      0.14      0.08         7\n",
      "         128       0.00      0.00      0.00         6\n",
      "         129       0.00      0.00      0.00         3\n",
      "         130       0.00      0.00      0.00         3\n",
      "         131       0.04      0.10      0.06        10\n",
      "         132       0.00      0.00      0.00         8\n",
      "         133       0.00      0.00      0.00         2\n",
      "         134       0.00      0.00      0.00         2\n",
      "         135       0.06      0.12      0.08         8\n",
      "         136       0.00      0.00      0.00         2\n",
      "         137       0.00      0.00      0.00         5\n",
      "         138       0.06      0.25      0.10         4\n",
      "         139       0.00      0.00      0.00         4\n",
      "         140       0.00      0.00      0.00         3\n",
      "         141       0.00      0.00      0.00         3\n",
      "         142       0.00      0.00      0.00         3\n",
      "         143       0.00      0.00      0.00         1\n",
      "         144       0.00      0.00      0.00         4\n",
      "         145       0.00      0.00      0.00         1\n",
      "         146       0.00      0.00      0.00         2\n",
      "         147       0.00      0.00      0.00         4\n",
      "         148       0.00      0.00      0.00         6\n",
      "         149       0.00      0.00      0.00         4\n",
      "         150       0.00      0.00      0.00         3\n",
      "         151       0.00      0.00      0.00         2\n",
      "         152       0.00      0.00      0.00         7\n",
      "         153       0.00      0.00      0.00         7\n",
      "         154       0.00      0.00      0.00         4\n",
      "         155       0.00      0.00      0.00         6\n",
      "         156       0.00      0.00      0.00         6\n",
      "         157       0.00      0.00      0.00         7\n",
      "         158       0.00      0.00      0.00         4\n",
      "         159       0.00      0.00      0.00         2\n",
      "         160       0.00      0.00      0.00         1\n",
      "         161       0.00      0.00      0.00         9\n",
      "         162       0.00      0.00      0.00         4\n",
      "         163       0.00      0.00      0.00         1\n",
      "         164       0.00      0.00      0.00         4\n",
      "         165       0.00      0.00      0.00         7\n",
      "         166       0.00      0.00      0.00         2\n",
      "         167       0.00      0.00      0.00         6\n",
      "         168       0.00      0.00      0.00         1\n",
      "         169       0.00      0.00      0.00         6\n",
      "         170       0.00      0.00      0.00         4\n",
      "         171       0.00      0.00      0.00         4\n",
      "         172       0.00      0.00      0.00         7\n",
      "         173       0.00      0.00      0.00         2\n",
      "         174       0.00      0.00      0.00         6\n",
      "         175       0.00      0.00      0.00         9\n",
      "         176       0.00      0.00      0.00         3\n",
      "         177       0.00      0.00      0.00         2\n",
      "         178       0.00      0.00      0.00         2\n",
      "         179       0.00      0.00      0.00         6\n",
      "         180       0.00      0.00      0.00         4\n",
      "         181       0.00      0.00      0.00        10\n",
      "         182       0.00      0.00      0.00        15\n",
      "         183       0.00      0.00      0.00         2\n",
      "         184       0.00      0.00      0.00         5\n",
      "         185       0.00      0.00      0.00         5\n",
      "         186       0.00      0.00      0.00         2\n",
      "         187       0.00      0.00      0.00         3\n",
      "         188       0.00      0.00      0.00         8\n",
      "         189       0.00      0.00      0.00         5\n",
      "         190       0.00      0.00      0.00         5\n",
      "         191       0.00      0.00      0.00         9\n",
      "         192       0.00      0.00      0.00         3\n",
      "         193       0.00      0.00      0.00         1\n",
      "         194       0.00      0.00      0.00         1\n",
      "         195       0.00      0.00      0.00         1\n",
      "         196       0.00      0.00      0.00         4\n",
      "         197       0.00      0.00      0.00         1\n",
      "         198       0.00      0.00      0.00         7\n",
      "         199       0.00      0.00      0.00         5\n",
      "         200       0.00      0.00      0.00         7\n",
      "         201       0.00      0.00      0.00         2\n",
      "         202       0.00      0.00      0.00         4\n",
      "         203       0.00      0.00      0.00         5\n",
      "         204       0.00      0.00      0.00         8\n",
      "         205       0.00      0.00      0.00         2\n",
      "         206       0.00      0.00      0.00         3\n",
      "         207       0.00      0.00      0.00         2\n",
      "         208       0.00      0.00      0.00         2\n",
      "         209       0.00      0.00      0.00         6\n",
      "         210       0.00      0.00      0.00         5\n",
      "         211       0.00      0.00      0.00         1\n",
      "         212       0.00      0.00      0.00         2\n",
      "         213       0.00      0.00      0.00         4\n",
      "         214       0.00      0.00      0.00         5\n",
      "         215       0.00      0.00      0.00         3\n",
      "         216       0.00      0.00      0.00         5\n",
      "         217       0.00      0.00      0.00         1\n",
      "         218       0.00      0.00      0.00         5\n",
      "         219       0.00      0.00      0.00         3\n",
      "         220       0.04      0.20      0.07         5\n",
      "         221       0.00      0.00      0.00         7\n",
      "         222       0.00      0.00      0.00         5\n",
      "         223       0.00      0.00      0.00         2\n",
      "         224       0.00      0.00      0.00         4\n",
      "         225       0.00      0.00      0.00         3\n",
      "         226       0.00      0.00      0.00         4\n",
      "         227       0.00      0.00      0.00         1\n",
      "         228       0.00      0.00      0.00         4\n",
      "         229       0.00      0.00      0.00         1\n",
      "         230       0.00      0.00      0.00         9\n",
      "         231       0.00      0.00      0.00         9\n",
      "         232       0.00      0.00      0.00         8\n",
      "         233       0.00      0.00      0.00         1\n",
      "         234       0.00      0.00      0.00         3\n",
      "         235       0.00      0.00      0.00         4\n",
      "         236       0.00      0.00      0.00         4\n",
      "         237       0.00      0.00      0.00         2\n",
      "         238       0.00      0.00      0.00         7\n",
      "         239       0.00      0.00      0.00         0\n",
      "         240       0.00      0.00      0.00         6\n",
      "         241       0.00      0.00      0.00         1\n",
      "         242       0.00      0.00      0.00         0\n",
      "         243       0.00      0.00      0.00         1\n",
      "         244       0.00      0.00      0.00         2\n",
      "         245       0.00      0.00      0.00         1\n",
      "         246       0.00      0.00      0.00         3\n",
      "         247       0.00      0.00      0.00         3\n",
      "         248       0.00      0.00      0.00         3\n",
      "         249       0.00      0.00      0.00         0\n",
      "         250       0.00      0.00      0.00         6\n",
      "         251       0.00      0.00      0.00         5\n",
      "         252       0.04      0.20      0.07         5\n",
      "         253       0.00      0.00      0.00         3\n",
      "         254       0.00      0.00      0.00         3\n",
      "         255       0.00      0.00      0.00         5\n",
      "         256       0.00      0.00      0.00         1\n",
      "         257       0.00      0.00      0.00         3\n",
      "         258       0.00      0.00      0.00         4\n",
      "         259       0.00      0.00      0.00         4\n",
      "         260       0.00      0.00      0.00         5\n",
      "         261       0.00      0.00      0.00         0\n",
      "         262       0.00      0.00      0.00         3\n",
      "         263       0.00      0.00      0.00         5\n",
      "         264       0.00      0.00      0.00         5\n",
      "         265       0.00      0.00      0.00         2\n",
      "         266       0.00      0.00      0.00         2\n",
      "         267       0.00      0.00      0.00         1\n",
      "         268       0.00      0.00      0.00         1\n",
      "         269       0.00      0.00      0.00         2\n",
      "         270       0.00      0.00      0.00         3\n",
      "         271       0.00      0.00      0.00         1\n",
      "         272       0.00      0.00      0.00         4\n",
      "         273       0.00      0.00      0.00        10\n",
      "         274       0.00      0.00      0.00         3\n",
      "         275       0.00      0.00      0.00         4\n",
      "         276       0.00      0.00      0.00         0\n",
      "         277       0.00      0.00      0.00         1\n",
      "         278       0.00      0.00      0.00         3\n",
      "         279       0.00      0.00      0.00         7\n",
      "         280       0.00      0.00      0.00         2\n",
      "         281       0.00      0.00      0.00         1\n",
      "         282       0.00      0.00      0.00         2\n",
      "         283       0.00      0.00      0.00         1\n",
      "         284       0.00      0.00      0.00         2\n",
      "         285       0.00      0.00      0.00         2\n",
      "         286       0.00      0.00      0.00         1\n",
      "         287       0.00      0.00      0.00         4\n",
      "         288       0.00      0.00      0.00         0\n",
      "         289       0.00      0.00      0.00         6\n",
      "         290       0.00      0.00      0.00         1\n",
      "         291       0.00      0.00      0.00         7\n",
      "         292       0.00      0.00      0.00         3\n",
      "         293       0.00      0.00      0.00         2\n",
      "         294       0.00      0.00      0.00         0\n",
      "         295       0.00      0.00      0.00         1\n",
      "         296       0.00      0.00      0.00         3\n",
      "         297       0.00      0.00      0.00         4\n",
      "         298       0.00      0.00      0.00         2\n",
      "         299       0.00      0.00      0.00         0\n",
      "         300       0.00      0.00      0.00         1\n",
      "         301       0.00      0.00      0.00         4\n",
      "         302       0.00      0.00      0.00         0\n",
      "         303       0.00      0.00      0.00         0\n",
      "         304       0.00      0.00      0.00         6\n",
      "         305       0.00      0.00      0.00         3\n",
      "         306       0.00      0.00      0.00         0\n",
      "         307       0.05      0.25      0.08         4\n",
      "         308       0.00      0.00      0.00         2\n",
      "         309       0.00      0.00      0.00         3\n",
      "         310       0.00      0.00      0.00         1\n",
      "         311       0.00      0.00      0.00         2\n",
      "         312       0.00      0.00      0.00         2\n",
      "         313       0.00      0.00      0.00         4\n",
      "         314       0.00      0.00      0.00         2\n",
      "         315       0.00      0.00      0.00         0\n",
      "         316       0.04      0.14      0.07         7\n",
      "         317       0.00      0.00      0.00         1\n",
      "         318       0.00      0.00      0.00         2\n",
      "         319       0.00      0.00      0.00         3\n",
      "         320       0.00      0.00      0.00         6\n",
      "         321       0.00      0.00      0.00         2\n",
      "         322       0.00      0.00      0.00         1\n",
      "         323       0.00      0.00      0.00         4\n",
      "         324       0.00      0.00      0.00         2\n",
      "         325       0.00      0.00      0.00         1\n",
      "         326       0.00      0.00      0.00         2\n",
      "         327       0.00      0.00      0.00         2\n",
      "         328       0.00      0.00      0.00         2\n",
      "         329       0.00      0.00      0.00         5\n",
      "         330       0.00      0.00      0.00         3\n",
      "         331       0.00      0.00      0.00         3\n",
      "         332       0.00      0.00      0.00         2\n",
      "         333       0.00      0.00      0.00         1\n",
      "         334       0.00      0.00      0.00         4\n",
      "         335       0.00      0.00      0.00         3\n",
      "         336       0.00      0.00      0.00         1\n",
      "         337       0.00      0.00      0.00         2\n",
      "         338       0.00      0.00      0.00         2\n",
      "         339       0.00      0.00      0.00         1\n",
      "         340       0.00      0.00      0.00         0\n",
      "         341       0.00      0.00      0.00         1\n",
      "         342       0.00      0.00      0.00         3\n",
      "         343       0.00      0.00      0.00         9\n",
      "         344       0.00      0.00      0.00         1\n",
      "         345       0.00      0.00      0.00         1\n",
      "         346       0.00      0.00      0.00         1\n",
      "         347       0.00      0.00      0.00         0\n",
      "         348       0.00      0.00      0.00         1\n",
      "         349       0.00      0.00      0.00         3\n",
      "         350       0.00      0.00      0.00         4\n",
      "         351       0.00      0.00      0.00         4\n",
      "         352       0.00      0.00      0.00         6\n",
      "         353       0.00      0.00      0.00         0\n",
      "         354       0.00      0.00      0.00         6\n",
      "         355       0.00      0.00      0.00         5\n",
      "         356       0.03      0.50      0.05         2\n",
      "         357       0.00      0.00      0.00         4\n",
      "         358       0.00      0.00      0.00         0\n",
      "         359       0.00      0.00      0.00         1\n",
      "         360       0.00      0.00      0.00         1\n",
      "         361       0.00      0.00      0.00         0\n",
      "         362       0.00      0.00      0.00         1\n",
      "         363       0.00      0.00      0.00         1\n",
      "         364       0.00      0.00      0.00         1\n",
      "         365       0.00      0.00      0.00         1\n",
      "         366       0.00      0.00      0.00         4\n",
      "         367       0.00      0.00      0.00         3\n",
      "         368       0.00      0.00      0.00         2\n",
      "         369       0.00      0.00      0.00         4\n",
      "         370       0.00      0.00      0.00         2\n",
      "         371       0.00      0.00      0.00         6\n",
      "         372       0.00      0.00      0.00         4\n",
      "         373       0.00      0.00      0.00         0\n",
      "         374       0.00      0.00      0.00         4\n",
      "         375       0.00      0.00      0.00         3\n",
      "         376       0.00      0.00      0.00         1\n",
      "         377       0.00      0.00      0.00         4\n",
      "         378       0.00      0.00      0.00         4\n",
      "         379       0.00      0.00      0.00         4\n",
      "         380       0.00      0.00      0.00         3\n",
      "         381       0.00      0.00      0.00         1\n",
      "         382       0.00      0.00      0.00         2\n",
      "         383       0.00      0.00      0.00         2\n",
      "         384       0.00      0.00      0.00         1\n",
      "         385       0.00      0.00      0.00         0\n",
      "         386       0.00      0.00      0.00         3\n",
      "         387       0.00      0.00      0.00         0\n",
      "         388       0.00      0.00      0.00         3\n",
      "         389       0.00      0.00      0.00         2\n",
      "         390       0.00      0.00      0.00         2\n",
      "         391       0.00      0.00      0.00         3\n",
      "         392       0.00      0.00      0.00         5\n",
      "         393       0.00      0.00      0.00         1\n",
      "         394       0.00      0.00      0.00         3\n",
      "         395       0.00      0.00      0.00         1\n",
      "         396       0.00      0.00      0.00         1\n",
      "         397       0.00      0.00      0.00         4\n",
      "         398       0.00      0.00      0.00         3\n",
      "         399       0.00      0.00      0.00         2\n",
      "         400       0.00      0.00      0.00         3\n",
      "         401       0.00      0.00      0.00         1\n",
      "         402       0.00      0.00      0.00         1\n",
      "         403       0.00      0.00      0.00         1\n",
      "         404       0.00      0.00      0.00         0\n",
      "         405       0.00      0.00      0.00         1\n",
      "         406       0.00      0.00      0.00         3\n",
      "         407       0.00      0.00      0.00         2\n",
      "         408       0.00      0.00      0.00         2\n",
      "         409       0.00      0.00      0.00         0\n",
      "         410       0.00      0.00      0.00         0\n",
      "         411       0.00      0.00      0.00         6\n",
      "         412       0.00      0.00      0.00         5\n",
      "         413       0.00      0.00      0.00         3\n",
      "         414       0.00      0.00      0.00         0\n",
      "         415       0.00      0.00      0.00         2\n",
      "         416       0.00      0.00      0.00         0\n",
      "         417       0.00      0.00      0.00         1\n",
      "         418       0.00      0.00      0.00         0\n",
      "         419       0.00      0.00      0.00         3\n",
      "         420       0.00      0.00      0.00         2\n",
      "         421       0.00      0.00      0.00         2\n",
      "         422       0.00      0.00      0.00         1\n",
      "         423       0.00      0.00      0.00         0\n",
      "         424       0.00      0.00      0.00         1\n",
      "         425       0.00      0.00      0.00         0\n",
      "         426       0.00      0.00      0.00         1\n",
      "         427       0.00      0.00      0.00         2\n",
      "         428       0.00      0.00      0.00         0\n",
      "         429       0.00      0.00      0.00         0\n",
      "         430       0.00      0.00      0.00         2\n",
      "         431       0.00      0.00      0.00         0\n",
      "         432       0.00      0.00      0.00         0\n",
      "         433       0.00      0.00      0.00         1\n",
      "         434       0.00      0.00      0.00         1\n",
      "         435       0.00      0.00      0.00         3\n",
      "         436       0.00      0.00      0.00         2\n",
      "         437       0.00      0.00      0.00         1\n",
      "         438       0.00      0.00      0.00         2\n",
      "         439       0.00      0.00      0.00         3\n",
      "         440       0.00      0.00      0.00         2\n",
      "         441       0.00      0.00      0.00         1\n",
      "         442       0.00      0.00      0.00         1\n",
      "         443       0.00      0.00      0.00         1\n",
      "         444       0.00      0.00      0.00         1\n",
      "         445       0.00      0.00      0.00         4\n",
      "         446       0.00      0.00      0.00         5\n",
      "         447       0.00      0.00      0.00         3\n",
      "         448       0.00      0.00      0.00         0\n",
      "         449       0.00      0.00      0.00         0\n",
      "         450       0.00      0.00      0.00         0\n",
      "         451       0.00      0.00      0.00         2\n",
      "         452       0.00      0.00      0.00         4\n",
      "         453       0.00      0.00      0.00         0\n",
      "         454       0.00      0.00      0.00         0\n",
      "         455       0.00      0.00      0.00         4\n",
      "         456       0.00      0.00      0.00         0\n",
      "         457       0.00      0.00      0.00         0\n",
      "         458       0.00      0.00      0.00         3\n",
      "         459       0.00      0.00      0.00         1\n",
      "         460       0.00      0.00      0.00         2\n",
      "         461       0.00      0.00      0.00         1\n",
      "         462       0.00      0.00      0.00         2\n",
      "         463       0.00      0.00      0.00         0\n",
      "         464       0.00      0.00      0.00         0\n",
      "         465       0.00      0.00      0.00         2\n",
      "         466       0.00      0.00      0.00         3\n",
      "         467       0.00      0.00      0.00         2\n",
      "         468       0.00      0.00      0.00         1\n",
      "         469       0.00      0.00      0.00         0\n",
      "         470       0.00      0.00      0.00         2\n",
      "         471       0.00      0.00      0.00         2\n",
      "         472       0.00      0.00      0.00         3\n",
      "         473       0.00      0.00      0.00         1\n",
      "         474       0.00      0.00      0.00         0\n",
      "         475       0.00      0.00      0.00         0\n",
      "         476       0.00      0.00      0.00         3\n",
      "         477       0.00      0.00      0.00         6\n",
      "         478       0.00      0.00      0.00         3\n",
      "         479       0.00      0.00      0.00         2\n",
      "         480       0.00      0.00      0.00         1\n",
      "         481       0.00      0.00      0.00         3\n",
      "         482       0.00      0.00      0.00         1\n",
      "         483       0.00      0.00      0.00         2\n",
      "         484       0.00      0.00      0.00         2\n",
      "         485       0.09      0.25      0.13         4\n",
      "         486       0.00      0.00      0.00         0\n",
      "         487       0.00      0.00      0.00         3\n",
      "         488       0.00      0.00      0.00         3\n",
      "         489       0.00      0.00      0.00         0\n",
      "         490       0.00      0.00      0.00         2\n",
      "         491       0.00      0.00      0.00         0\n",
      "         492       0.00      0.00      0.00         0\n",
      "         493       0.00      0.00      0.00         2\n",
      "         494       0.00      0.00      0.00         3\n",
      "         495       0.00      0.00      0.00         5\n",
      "         496       0.00      0.00      0.00         2\n",
      "         497       0.00      0.00      0.00         3\n",
      "         498       0.00      0.00      0.00         1\n",
      "         499       0.00      0.00      0.00         0\n",
      "\n",
      "   micro avg       0.01      0.03      0.01      3662\n",
      "   macro avg       0.00      0.01      0.01      3662\n",
      "weighted avg       0.03      0.03      0.02      3662\n",
      " samples avg       0.01      0.03      0.01      3662\n",
      "\n",
      "Time taken to run this cell : 0:00:03.975615\n"
     ]
    },
    {
     "name": "stderr",
     "output_type": "stream",
     "text": [
      "/home/saurav/anaconda3/lib/python3.6/site-packages/sklearn/metrics/classification.py:1145: UndefinedMetricWarning: Recall is ill-defined and being set to 0.0 in labels with no true samples.\n",
      "  'recall', 'true', average, warn_for)\n",
      "/home/saurav/anaconda3/lib/python3.6/site-packages/sklearn/metrics/classification.py:1145: UndefinedMetricWarning: F-score is ill-defined and being set to 0.0 in labels with no true samples.\n",
      "  'recall', 'true', average, warn_for)\n",
      "/home/saurav/anaconda3/lib/python3.6/site-packages/sklearn/metrics/classification.py:1145: UndefinedMetricWarning: Recall and F-score are ill-defined and being set to 0.0 in labels with no true samples.\n",
      "  'recall', 'true', average, warn_for)\n",
      "/home/saurav/anaconda3/lib/python3.6/site-packages/sklearn/metrics/classification.py:1145: UndefinedMetricWarning: Recall and F-score are ill-defined and being set to 0.0 in labels with no true samples.\n",
      "  'recall', 'true', average, warn_for)\n",
      "/home/saurav/anaconda3/lib/python3.6/site-packages/sklearn/metrics/classification.py:1145: UndefinedMetricWarning: Recall and F-score are ill-defined and being set to 0.0 in labels with no true samples.\n",
      "  'recall', 'true', average, warn_for)\n",
      "/home/saurav/anaconda3/lib/python3.6/site-packages/sklearn/metrics/classification.py:1143: UndefinedMetricWarning: Precision and F-score are ill-defined and being set to 0.0 in samples with no predicted labels.\n",
      "  'precision', 'predicted', average, warn_for)\n",
      "/home/saurav/anaconda3/lib/python3.6/site-packages/sklearn/metrics/classification.py:1145: UndefinedMetricWarning: Recall and F-score are ill-defined and being set to 0.0 in samples with no true labels.\n",
      "  'recall', 'true', average, warn_for)\n"
     ]
    }
   ],
   "source": [
    "start = datetime.now()\n",
    "classifier = OneVsRestClassifier(SGDClassifier(loss='hinge', alpha = 0.00001, penalty='l1'))\n",
    "classifier.fit(x_train_multilabel, y_train)\n",
    "predictions = classifier.predict (x_test_multilabel)\n",
    "\n",
    "\n",
    "print(\"Accuracy :\",metrics.accuracy_score(y_test, predictions))\n",
    "print(\"Hamming loss \",metrics.hamming_loss(y_test,predictions))\n",
    "\n",
    "\n",
    "precision = precision_score(y_test, predictions, average='micro')\n",
    "recall = recall_score(y_test, predictions, average='micro')\n",
    "f1 = f1_score(y_test, predictions, average='micro')\n",
    " \n",
    "print(\"Micro-average quality numbers\")\n",
    "print(\"Precision: {:.4f}, Recall: {:.4f}, F1-measure: {:.4f}\".format(precision, recall, f1))\n",
    "\n",
    "precision = precision_score(y_test, predictions, average='macro')\n",
    "recall = recall_score(y_test, predictions, average='macro')\n",
    "f1 = f1_score(y_test, predictions, average='macro')\n",
    " \n",
    "print(\"Macro-average quality numbers\")\n",
    "print(\"Precision: {:.4f}, Recall: {:.4f}, F1-measure: {:.4f}\".format(precision, recall, f1))\n",
    "\n",
    "print (metrics.classification_report(y_test, predictions))\n",
    "print(\"Time taken to run this cell :\", datetime.now() - start)"
   ]
  },
  {
   "cell_type": "markdown",
   "metadata": {},
   "source": [
    "# LogisticRegression"
   ]
  },
  {
   "cell_type": "code",
   "execution_count": 14,
   "metadata": {},
   "outputs": [
    {
     "name": "stdout",
     "output_type": "stream",
     "text": [
      "Accuracy : 0.0545\n",
      "Hamming loss  0.005863\n",
      "Micro-average quality numbers\n",
      "Precision: 0.0111, Recall: 0.0068, F1-measure: 0.0085\n",
      "Macro-average quality numbers\n",
      "Precision: 0.0043, Recall: 0.0026, F1-measure: 0.0026\n",
      "              precision    recall  f1-score   support\n",
      "\n",
      "           0       0.03      0.01      0.02        97\n",
      "           1       0.00      0.00      0.00       140\n",
      "           2       0.12      0.01      0.02       125\n",
      "           3       0.12      0.05      0.07        91\n",
      "           4       0.12      0.03      0.05        88\n",
      "           5       0.17      0.03      0.05       136\n",
      "           6       0.00      0.00      0.00        25\n",
      "           7       0.00      0.00      0.00        27\n",
      "           8       0.00      0.00      0.00        88\n",
      "           9       0.00      0.00      0.00        81\n",
      "          10       0.00      0.00      0.00        61\n",
      "          11       0.00      0.00      0.00        82\n",
      "          12       0.00      0.00      0.00        40\n",
      "          13       0.05      0.03      0.04        34\n",
      "          14       0.00      0.00      0.00        89\n",
      "          15       0.00      0.00      0.00        46\n",
      "          16       0.00      0.00      0.00        39\n",
      "          17       0.23      0.14      0.17        22\n",
      "          18       0.00      0.00      0.00        57\n",
      "          19       0.00      0.00      0.00        45\n",
      "          20       0.00      0.00      0.00        21\n",
      "          21       0.00      0.00      0.00        56\n",
      "          22       0.00      0.00      0.00        18\n",
      "          23       0.00      0.00      0.00        30\n",
      "          24       0.00      0.00      0.00        11\n",
      "          25       0.00      0.00      0.00        29\n",
      "          26       0.00      0.00      0.00         9\n",
      "          27       0.00      0.00      0.00        39\n",
      "          28       0.14      0.11      0.12         9\n",
      "          29       0.00      0.00      0.00        16\n",
      "          30       0.00      0.00      0.00        23\n",
      "          31       0.00      0.00      0.00        29\n",
      "          32       0.00      0.00      0.00        21\n",
      "          33       0.00      0.00      0.00         6\n",
      "          34       0.14      0.02      0.04        45\n",
      "          35       0.33      0.03      0.06        29\n",
      "          36       0.00      0.00      0.00        10\n",
      "          37       0.00      0.00      0.00         8\n",
      "          38       0.00      0.00      0.00         8\n",
      "          39       0.00      0.00      0.00        17\n",
      "          40       0.00      0.00      0.00        11\n",
      "          41       0.06      0.11      0.08         9\n",
      "          42       0.00      0.00      0.00         7\n",
      "          43       0.00      0.00      0.00         4\n",
      "          44       0.00      0.00      0.00         7\n",
      "          45       0.00      0.00      0.00         7\n",
      "          46       0.00      0.00      0.00        28\n",
      "          47       0.00      0.00      0.00         2\n",
      "          48       0.00      0.00      0.00         7\n",
      "          49       0.00      0.00      0.00         7\n",
      "          50       0.00      0.00      0.00        10\n",
      "          51       0.00      0.00      0.00        11\n",
      "          52       0.00      0.00      0.00        12\n",
      "          53       0.00      0.00      0.00         6\n",
      "          54       0.00      0.00      0.00         9\n",
      "          55       0.00      0.00      0.00         0\n",
      "          56       0.00      0.00      0.00         7\n",
      "          57       0.00      0.00      0.00        14\n",
      "          58       0.00      0.00      0.00        29\n",
      "          59       0.00      0.00      0.00        18\n",
      "          60       0.00      0.00      0.00        13\n",
      "          61       0.00      0.00      0.00         5\n",
      "          62       0.00      0.00      0.00        11\n",
      "          63       0.00      0.00      0.00         6\n",
      "          64       0.00      0.00      0.00        17\n",
      "          65       0.00      0.00      0.00        11\n",
      "          66       0.00      0.00      0.00        14\n",
      "          67       0.00      0.00      0.00         9\n",
      "          68       0.20      0.07      0.11        14\n",
      "          69       0.00      0.00      0.00        18\n",
      "          70       0.00      0.00      0.00        13\n",
      "          71       0.00      0.00      0.00        15\n",
      "          72       0.00      0.00      0.00        11\n",
      "          73       0.00      0.00      0.00         9\n",
      "          74       0.00      0.00      0.00         9\n",
      "          75       0.00      0.00      0.00         2\n",
      "          76       0.00      0.00      0.00        23\n",
      "          77       0.00      0.00      0.00         7\n",
      "          78       0.00      0.00      0.00         2\n",
      "          79       0.00      0.00      0.00         7\n",
      "          80       0.00      0.00      0.00         8\n",
      "          81       0.00      0.00      0.00        10\n",
      "          82       0.00      0.00      0.00        12\n",
      "          83       0.00      0.00      0.00         6\n",
      "          84       0.00      0.00      0.00         2\n",
      "          85       0.00      0.00      0.00         9\n",
      "          86       0.00      0.00      0.00         6\n",
      "          87       0.00      0.00      0.00         4\n",
      "          88       0.00      0.00      0.00         2\n",
      "          89       0.00      0.00      0.00         8\n",
      "          90       0.00      0.00      0.00         8\n",
      "          91       0.00      0.00      0.00         5\n",
      "          92       0.00      0.00      0.00         9\n",
      "          93       0.00      0.00      0.00        12\n",
      "          94       0.00      0.00      0.00         2\n",
      "          95       0.00      0.00      0.00         7\n",
      "          96       0.00      0.00      0.00        13\n",
      "          97       0.00      0.00      0.00        18\n",
      "          98       0.00      0.00      0.00         0\n",
      "          99       0.00      0.00      0.00         9\n",
      "         100       0.00      0.00      0.00         6\n",
      "         101       0.00      0.00      0.00        10\n",
      "         102       0.00      0.00      0.00        12\n",
      "         103       0.00      0.00      0.00         4\n",
      "         104       0.00      0.00      0.00        10\n",
      "         105       0.00      0.00      0.00         2\n",
      "         106       0.00      0.00      0.00         8\n",
      "         107       0.00      0.00      0.00        10\n",
      "         108       0.00      0.00      0.00        10\n",
      "         109       0.00      0.00      0.00         2\n",
      "         110       0.00      0.00      0.00         7\n",
      "         111       0.00      0.00      0.00        16\n",
      "         112       0.00      0.00      0.00         6\n",
      "         113       0.00      0.00      0.00         8\n",
      "         114       0.00      0.00      0.00         4\n",
      "         115       0.00      0.00      0.00         2\n",
      "         116       0.00      0.00      0.00        11\n",
      "         117       0.00      0.00      0.00         5\n",
      "         118       0.00      0.00      0.00         7\n",
      "         119       0.00      0.00      0.00        15\n",
      "         120       0.00      0.00      0.00         4\n",
      "         121       0.00      0.00      0.00        14\n",
      "         122       0.00      0.00      0.00         4\n",
      "         123       0.00      0.00      0.00         5\n",
      "         124       0.00      0.00      0.00         2\n",
      "         125       0.25      0.14      0.18         7\n",
      "         126       0.00      0.00      0.00         3\n",
      "         127       0.00      0.00      0.00         7\n",
      "         128       0.00      0.00      0.00         6\n",
      "         129       0.00      0.00      0.00         3\n",
      "         130       0.00      0.00      0.00         3\n",
      "         131       0.00      0.00      0.00        10\n",
      "         132       0.00      0.00      0.00         8\n",
      "         133       0.00      0.00      0.00         2\n",
      "         134       0.00      0.00      0.00         2\n",
      "         135       0.00      0.00      0.00         8\n",
      "         136       0.00      0.00      0.00         2\n",
      "         137       0.00      0.00      0.00         5\n",
      "         138       0.00      0.00      0.00         4\n",
      "         139       0.00      0.00      0.00         4\n",
      "         140       0.00      0.00      0.00         3\n",
      "         141       0.00      0.00      0.00         3\n",
      "         142       0.00      0.00      0.00         3\n",
      "         143       0.00      0.00      0.00         1\n",
      "         144       0.00      0.00      0.00         4\n",
      "         145       0.00      0.00      0.00         1\n",
      "         146       0.00      0.00      0.00         2\n",
      "         147       0.00      0.00      0.00         4\n",
      "         148       0.00      0.00      0.00         6\n",
      "         149       0.00      0.00      0.00         4\n",
      "         150       0.00      0.00      0.00         3\n",
      "         151       0.00      0.00      0.00         2\n",
      "         152       0.00      0.00      0.00         7\n",
      "         153       0.00      0.00      0.00         7\n",
      "         154       0.00      0.00      0.00         4\n",
      "         155       0.00      0.00      0.00         6\n",
      "         156       0.00      0.00      0.00         6\n",
      "         157       0.00      0.00      0.00         7\n",
      "         158       0.00      0.00      0.00         4\n",
      "         159       0.00      0.00      0.00         2\n",
      "         160       0.00      0.00      0.00         1\n",
      "         161       0.00      0.00      0.00         9\n",
      "         162       0.00      0.00      0.00         4\n",
      "         163       0.00      0.00      0.00         1\n",
      "         164       0.00      0.00      0.00         4\n",
      "         165       0.00      0.00      0.00         7\n",
      "         166       0.00      0.00      0.00         2\n",
      "         167       0.00      0.00      0.00         6\n",
      "         168       0.00      0.00      0.00         1\n",
      "         169       0.00      0.00      0.00         6\n",
      "         170       0.00      0.00      0.00         4\n",
      "         171       0.00      0.00      0.00         4\n",
      "         172       0.00      0.00      0.00         7\n",
      "         173       0.00      0.00      0.00         2\n",
      "         174       0.00      0.00      0.00         6\n",
      "         175       0.00      0.00      0.00         9\n",
      "         176       0.00      0.00      0.00         3\n",
      "         177       0.00      0.00      0.00         2\n",
      "         178       0.00      0.00      0.00         2\n",
      "         179       0.00      0.00      0.00         6\n",
      "         180       0.00      0.00      0.00         4\n",
      "         181       0.00      0.00      0.00        10\n",
      "         182       0.00      0.00      0.00        15\n",
      "         183       0.20      0.50      0.29         2\n",
      "         184       0.00      0.00      0.00         5\n",
      "         185       0.00      0.00      0.00         5\n",
      "         186       0.00      0.00      0.00         2\n",
      "         187       0.00      0.00      0.00         3\n",
      "         188       0.00      0.00      0.00         8\n",
      "         189       0.00      0.00      0.00         5\n",
      "         190       0.00      0.00      0.00         5\n",
      "         191       0.00      0.00      0.00         9\n",
      "         192       0.00      0.00      0.00         3\n",
      "         193       0.00      0.00      0.00         1\n",
      "         194       0.00      0.00      0.00         1\n",
      "         195       0.00      0.00      0.00         1\n",
      "         196       0.00      0.00      0.00         4\n",
      "         197       0.00      0.00      0.00         1\n",
      "         198       0.00      0.00      0.00         7\n",
      "         199       0.00      0.00      0.00         5\n",
      "         200       0.00      0.00      0.00         7\n",
      "         201       0.00      0.00      0.00         2\n",
      "         202       0.00      0.00      0.00         4\n",
      "         203       0.00      0.00      0.00         5\n",
      "         204       0.00      0.00      0.00         8\n",
      "         205       0.00      0.00      0.00         2\n",
      "         206       0.00      0.00      0.00         3\n",
      "         207       0.00      0.00      0.00         2\n",
      "         208       0.00      0.00      0.00         2\n",
      "         209       0.00      0.00      0.00         6\n",
      "         210       0.00      0.00      0.00         5\n",
      "         211       0.00      0.00      0.00         1\n",
      "         212       0.00      0.00      0.00         2\n",
      "         213       0.00      0.00      0.00         4\n",
      "         214       0.00      0.00      0.00         5\n",
      "         215       0.00      0.00      0.00         3\n",
      "         216       0.00      0.00      0.00         5\n",
      "         217       0.00      0.00      0.00         1\n",
      "         218       0.00      0.00      0.00         5\n",
      "         219       0.00      0.00      0.00         3\n",
      "         220       0.00      0.00      0.00         5\n",
      "         221       0.00      0.00      0.00         7\n",
      "         222       0.00      0.00      0.00         5\n",
      "         223       0.00      0.00      0.00         2\n",
      "         224       0.00      0.00      0.00         4\n",
      "         225       0.00      0.00      0.00         3\n",
      "         226       0.00      0.00      0.00         4\n",
      "         227       0.00      0.00      0.00         1\n",
      "         228       0.00      0.00      0.00         4\n",
      "         229       0.00      0.00      0.00         1\n",
      "         230       0.00      0.00      0.00         9\n",
      "         231       0.00      0.00      0.00         9\n",
      "         232       0.00      0.00      0.00         8\n",
      "         233       0.00      0.00      0.00         1\n",
      "         234       0.00      0.00      0.00         3\n",
      "         235       0.00      0.00      0.00         4\n",
      "         236       0.00      0.00      0.00         4\n",
      "         237       0.00      0.00      0.00         2\n",
      "         238       0.00      0.00      0.00         7\n",
      "         239       0.00      0.00      0.00         0\n",
      "         240       0.00      0.00      0.00         6\n",
      "         241       0.00      0.00      0.00         1\n",
      "         242       0.00      0.00      0.00         0\n",
      "         243       0.00      0.00      0.00         1\n",
      "         244       0.00      0.00      0.00         2\n",
      "         245       0.00      0.00      0.00         1\n",
      "         246       0.00      0.00      0.00         3\n",
      "         247       0.00      0.00      0.00         3\n",
      "         248       0.00      0.00      0.00         3\n",
      "         249       0.00      0.00      0.00         0\n",
      "         250       0.00      0.00      0.00         6\n",
      "         251       0.00      0.00      0.00         5\n",
      "         252       0.00      0.00      0.00         5\n",
      "         253       0.00      0.00      0.00         3\n",
      "         254       0.00      0.00      0.00         3\n",
      "         255       0.00      0.00      0.00         5\n",
      "         256       0.00      0.00      0.00         1\n",
      "         257       0.00      0.00      0.00         3\n",
      "         258       0.00      0.00      0.00         4\n",
      "         259       0.00      0.00      0.00         4\n",
      "         260       0.00      0.00      0.00         5\n",
      "         261       0.00      0.00      0.00         0\n",
      "         262       0.00      0.00      0.00         3\n",
      "         263       0.00      0.00      0.00         5\n",
      "         264       0.00      0.00      0.00         5\n",
      "         265       0.00      0.00      0.00         2\n",
      "         266       0.00      0.00      0.00         2\n",
      "         267       0.00      0.00      0.00         1\n",
      "         268       0.00      0.00      0.00         1\n",
      "         269       0.00      0.00      0.00         2\n",
      "         270       0.00      0.00      0.00         3\n",
      "         271       0.00      0.00      0.00         1\n",
      "         272       0.00      0.00      0.00         4\n",
      "         273       0.00      0.00      0.00        10\n",
      "         274       0.00      0.00      0.00         3\n",
      "         275       0.00      0.00      0.00         4\n",
      "         276       0.00      0.00      0.00         0\n",
      "         277       0.00      0.00      0.00         1\n",
      "         278       0.00      0.00      0.00         3\n",
      "         279       0.00      0.00      0.00         7\n",
      "         280       0.00      0.00      0.00         2\n",
      "         281       0.00      0.00      0.00         1\n",
      "         282       0.00      0.00      0.00         2\n",
      "         283       0.00      0.00      0.00         1\n",
      "         284       0.00      0.00      0.00         2\n",
      "         285       0.00      0.00      0.00         2\n",
      "         286       0.00      0.00      0.00         1\n",
      "         287       0.00      0.00      0.00         4\n",
      "         288       0.00      0.00      0.00         0\n",
      "         289       0.00      0.00      0.00         6\n",
      "         290       0.00      0.00      0.00         1\n",
      "         291       0.00      0.00      0.00         7\n",
      "         292       0.00      0.00      0.00         3\n",
      "         293       0.00      0.00      0.00         2\n",
      "         294       0.00      0.00      0.00         0\n",
      "         295       0.00      0.00      0.00         1\n",
      "         296       0.00      0.00      0.00         3\n",
      "         297       0.00      0.00      0.00         4\n",
      "         298       0.00      0.00      0.00         2\n",
      "         299       0.00      0.00      0.00         0\n",
      "         300       0.00      0.00      0.00         1\n",
      "         301       0.00      0.00      0.00         4\n",
      "         302       0.00      0.00      0.00         0\n",
      "         303       0.00      0.00      0.00         0\n",
      "         304       0.00      0.00      0.00         6\n",
      "         305       0.00      0.00      0.00         3\n",
      "         306       0.00      0.00      0.00         0\n",
      "         307       0.00      0.00      0.00         4\n",
      "         308       0.00      0.00      0.00         2\n",
      "         309       0.00      0.00      0.00         3\n",
      "         310       0.00      0.00      0.00         1\n",
      "         311       0.00      0.00      0.00         2\n",
      "         312       0.00      0.00      0.00         2\n",
      "         313       0.00      0.00      0.00         4\n",
      "         314       0.00      0.00      0.00         2\n",
      "         315       0.00      0.00      0.00         0\n",
      "         316       0.00      0.00      0.00         7\n",
      "         317       0.00      0.00      0.00         1\n",
      "         318       0.00      0.00      0.00         2\n",
      "         319       0.00      0.00      0.00         3\n",
      "         320       0.00      0.00      0.00         6\n",
      "         321       0.00      0.00      0.00         2\n",
      "         322       0.00      0.00      0.00         1\n",
      "         323       0.00      0.00      0.00         4\n",
      "         324       0.00      0.00      0.00         2\n",
      "         325       0.00      0.00      0.00         1\n",
      "         326       0.00      0.00      0.00         2\n",
      "         327       0.00      0.00      0.00         2\n",
      "         328       0.00      0.00      0.00         2\n",
      "         329       0.00      0.00      0.00         5\n",
      "         330       0.00      0.00      0.00         3\n",
      "         331       0.00      0.00      0.00         3\n",
      "         332       0.00      0.00      0.00         2\n",
      "         333       0.00      0.00      0.00         1\n",
      "         334       0.00      0.00      0.00         4\n",
      "         335       0.00      0.00      0.00         3\n",
      "         336       0.00      0.00      0.00         1\n",
      "         337       0.00      0.00      0.00         2\n",
      "         338       0.00      0.00      0.00         2\n",
      "         339       0.00      0.00      0.00         1\n",
      "         340       0.00      0.00      0.00         0\n",
      "         341       0.00      0.00      0.00         1\n",
      "         342       0.00      0.00      0.00         3\n",
      "         343       0.00      0.00      0.00         9\n",
      "         344       0.00      0.00      0.00         1\n",
      "         345       0.00      0.00      0.00         1\n",
      "         346       0.00      0.00      0.00         1\n",
      "         347       0.00      0.00      0.00         0\n",
      "         348       0.00      0.00      0.00         1\n",
      "         349       0.00      0.00      0.00         3\n",
      "         350       0.00      0.00      0.00         4\n",
      "         351       0.00      0.00      0.00         4\n",
      "         352       0.00      0.00      0.00         6\n",
      "         353       0.00      0.00      0.00         0\n",
      "         354       0.00      0.00      0.00         6\n",
      "         355       0.00      0.00      0.00         5\n",
      "         356       0.00      0.00      0.00         2\n",
      "         357       0.00      0.00      0.00         4\n",
      "         358       0.00      0.00      0.00         0\n",
      "         359       0.00      0.00      0.00         1\n",
      "         360       0.00      0.00      0.00         1\n",
      "         361       0.00      0.00      0.00         0\n",
      "         362       0.00      0.00      0.00         1\n",
      "         363       0.00      0.00      0.00         1\n",
      "         364       0.00      0.00      0.00         1\n",
      "         365       0.00      0.00      0.00         1\n",
      "         366       0.00      0.00      0.00         4\n",
      "         367       0.00      0.00      0.00         3\n",
      "         368       0.00      0.00      0.00         2\n",
      "         369       0.00      0.00      0.00         4\n",
      "         370       0.00      0.00      0.00         2\n",
      "         371       0.00      0.00      0.00         6\n",
      "         372       0.00      0.00      0.00         4\n",
      "         373       0.00      0.00      0.00         0\n",
      "         374       0.00      0.00      0.00         4\n",
      "         375       0.00      0.00      0.00         3\n",
      "         376       0.00      0.00      0.00         1\n",
      "         377       0.00      0.00      0.00         4\n",
      "         378       0.00      0.00      0.00         4\n",
      "         379       0.00      0.00      0.00         4\n",
      "         380       0.00      0.00      0.00         3\n",
      "         381       0.00      0.00      0.00         1\n",
      "         382       0.00      0.00      0.00         2\n",
      "         383       0.00      0.00      0.00         2\n",
      "         384       0.00      0.00      0.00         1\n",
      "         385       0.00      0.00      0.00         0\n",
      "         386       0.00      0.00      0.00         3\n",
      "         387       0.00      0.00      0.00         0\n",
      "         388       0.00      0.00      0.00         3\n",
      "         389       0.00      0.00      0.00         2\n",
      "         390       0.00      0.00      0.00         2\n",
      "         391       0.00      0.00      0.00         3\n",
      "         392       0.00      0.00      0.00         5\n",
      "         393       0.00      0.00      0.00         1\n",
      "         394       0.00      0.00      0.00         3\n",
      "         395       0.00      0.00      0.00         1\n",
      "         396       0.00      0.00      0.00         1\n",
      "         397       0.00      0.00      0.00         4\n",
      "         398       0.00      0.00      0.00         3\n",
      "         399       0.00      0.00      0.00         2\n",
      "         400       0.00      0.00      0.00         3\n",
      "         401       0.00      0.00      0.00         1\n",
      "         402       0.00      0.00      0.00         1\n",
      "         403       0.00      0.00      0.00         1\n",
      "         404       0.00      0.00      0.00         0\n",
      "         405       0.00      0.00      0.00         1\n",
      "         406       0.00      0.00      0.00         3\n",
      "         407       0.00      0.00      0.00         2\n",
      "         408       0.00      0.00      0.00         2\n",
      "         409       0.00      0.00      0.00         0\n",
      "         410       0.00      0.00      0.00         0\n",
      "         411       0.00      0.00      0.00         6\n",
      "         412       0.00      0.00      0.00         5\n",
      "         413       0.00      0.00      0.00         3\n",
      "         414       0.00      0.00      0.00         0\n",
      "         415       0.00      0.00      0.00         2\n",
      "         416       0.00      0.00      0.00         0\n",
      "         417       0.00      0.00      0.00         1\n",
      "         418       0.00      0.00      0.00         0\n",
      "         419       0.00      0.00      0.00         3\n",
      "         420       0.00      0.00      0.00         2\n",
      "         421       0.00      0.00      0.00         2\n",
      "         422       0.00      0.00      0.00         1\n",
      "         423       0.00      0.00      0.00         0\n",
      "         424       0.00      0.00      0.00         1\n",
      "         425       0.00      0.00      0.00         0\n",
      "         426       0.00      0.00      0.00         1\n",
      "         427       0.00      0.00      0.00         2\n",
      "         428       0.00      0.00      0.00         0\n",
      "         429       0.00      0.00      0.00         0\n",
      "         430       0.00      0.00      0.00         2\n",
      "         431       0.00      0.00      0.00         0\n",
      "         432       0.00      0.00      0.00         0\n",
      "         433       0.00      0.00      0.00         1\n",
      "         434       0.00      0.00      0.00         1\n",
      "         435       0.00      0.00      0.00         3\n",
      "         436       0.00      0.00      0.00         2\n",
      "         437       0.00      0.00      0.00         1\n",
      "         438       0.00      0.00      0.00         2\n",
      "         439       0.00      0.00      0.00         3\n",
      "         440       0.00      0.00      0.00         2\n",
      "         441       0.00      0.00      0.00         1\n",
      "         442       0.00      0.00      0.00         1\n",
      "         443       0.00      0.00      0.00         1\n",
      "         444       0.00      0.00      0.00         1\n",
      "         445       0.00      0.00      0.00         4\n",
      "         446       0.00      0.00      0.00         5\n",
      "         447       0.00      0.00      0.00         3\n",
      "         448       0.00      0.00      0.00         0\n",
      "         449       0.00      0.00      0.00         0\n",
      "         450       0.00      0.00      0.00         0\n",
      "         451       0.00      0.00      0.00         2\n",
      "         452       0.00      0.00      0.00         4\n",
      "         453       0.00      0.00      0.00         0\n",
      "         454       0.00      0.00      0.00         0\n",
      "         455       0.00      0.00      0.00         4\n",
      "         456       0.00      0.00      0.00         0\n",
      "         457       0.00      0.00      0.00         0\n",
      "         458       0.00      0.00      0.00         3\n",
      "         459       0.00      0.00      0.00         1\n",
      "         460       0.00      0.00      0.00         2\n",
      "         461       0.00      0.00      0.00         1\n",
      "         462       0.00      0.00      0.00         2\n",
      "         463       0.00      0.00      0.00         0\n",
      "         464       0.00      0.00      0.00         0\n",
      "         465       0.00      0.00      0.00         2\n",
      "         466       0.00      0.00      0.00         3\n",
      "         467       0.00      0.00      0.00         2\n",
      "         468       0.00      0.00      0.00         1\n",
      "         469       0.00      0.00      0.00         0\n",
      "         470       0.00      0.00      0.00         2\n",
      "         471       0.00      0.00      0.00         2\n",
      "         472       0.00      0.00      0.00         3\n",
      "         473       0.00      0.00      0.00         1\n",
      "         474       0.00      0.00      0.00         0\n",
      "         475       0.00      0.00      0.00         0\n",
      "         476       0.00      0.00      0.00         3\n",
      "         477       0.00      0.00      0.00         6\n",
      "         478       0.00      0.00      0.00         3\n",
      "         479       0.00      0.00      0.00         2\n",
      "         480       0.00      0.00      0.00         1\n",
      "         481       0.00      0.00      0.00         3\n",
      "         482       0.00      0.00      0.00         1\n",
      "         483       0.00      0.00      0.00         2\n",
      "         484       0.00      0.00      0.00         2\n",
      "         485       0.00      0.00      0.00         4\n",
      "         486       0.00      0.00      0.00         0\n",
      "         487       0.00      0.00      0.00         3\n",
      "         488       0.00      0.00      0.00         3\n",
      "         489       0.00      0.00      0.00         0\n",
      "         490       0.00      0.00      0.00         2\n",
      "         491       0.00      0.00      0.00         0\n",
      "         492       0.00      0.00      0.00         0\n",
      "         493       0.00      0.00      0.00         2\n",
      "         494       0.00      0.00      0.00         3\n",
      "         495       0.00      0.00      0.00         5\n",
      "         496       0.00      0.00      0.00         2\n",
      "         497       0.00      0.00      0.00         3\n",
      "         498       0.00      0.00      0.00         1\n",
      "         499       0.00      0.00      0.00         0\n",
      "\n",
      "   micro avg       0.01      0.01      0.01      3662\n",
      "   macro avg       0.00      0.00      0.00      3662\n",
      "weighted avg       0.03      0.01      0.01      3662\n",
      " samples avg       0.01      0.01      0.01      3662\n",
      "\n",
      "Time taken to run this cell : 0:00:18.526774\n"
     ]
    },
    {
     "name": "stderr",
     "output_type": "stream",
     "text": [
      "/home/saurav/anaconda3/lib/python3.6/site-packages/sklearn/metrics/classification.py:1143: UndefinedMetricWarning: Precision is ill-defined and being set to 0.0 in labels with no predicted samples.\n",
      "  'precision', 'predicted', average, warn_for)\n",
      "/home/saurav/anaconda3/lib/python3.6/site-packages/sklearn/metrics/classification.py:1145: UndefinedMetricWarning: Recall is ill-defined and being set to 0.0 in labels with no true samples.\n",
      "  'recall', 'true', average, warn_for)\n",
      "/home/saurav/anaconda3/lib/python3.6/site-packages/sklearn/metrics/classification.py:1143: UndefinedMetricWarning: F-score is ill-defined and being set to 0.0 in labels with no predicted samples.\n",
      "  'precision', 'predicted', average, warn_for)\n",
      "/home/saurav/anaconda3/lib/python3.6/site-packages/sklearn/metrics/classification.py:1145: UndefinedMetricWarning: F-score is ill-defined and being set to 0.0 in labels with no true samples.\n",
      "  'recall', 'true', average, warn_for)\n",
      "/home/saurav/anaconda3/lib/python3.6/site-packages/sklearn/metrics/classification.py:1143: UndefinedMetricWarning: Precision and F-score are ill-defined and being set to 0.0 in labels with no predicted samples.\n",
      "  'precision', 'predicted', average, warn_for)\n",
      "/home/saurav/anaconda3/lib/python3.6/site-packages/sklearn/metrics/classification.py:1145: UndefinedMetricWarning: Recall and F-score are ill-defined and being set to 0.0 in labels with no true samples.\n",
      "  'recall', 'true', average, warn_for)\n",
      "/home/saurav/anaconda3/lib/python3.6/site-packages/sklearn/metrics/classification.py:1143: UndefinedMetricWarning: Precision and F-score are ill-defined and being set to 0.0 in labels with no predicted samples.\n",
      "  'precision', 'predicted', average, warn_for)\n",
      "/home/saurav/anaconda3/lib/python3.6/site-packages/sklearn/metrics/classification.py:1145: UndefinedMetricWarning: Recall and F-score are ill-defined and being set to 0.0 in labels with no true samples.\n",
      "  'recall', 'true', average, warn_for)\n",
      "/home/saurav/anaconda3/lib/python3.6/site-packages/sklearn/metrics/classification.py:1143: UndefinedMetricWarning: Precision and F-score are ill-defined and being set to 0.0 in labels with no predicted samples.\n",
      "  'precision', 'predicted', average, warn_for)\n",
      "/home/saurav/anaconda3/lib/python3.6/site-packages/sklearn/metrics/classification.py:1145: UndefinedMetricWarning: Recall and F-score are ill-defined and being set to 0.0 in labels with no true samples.\n",
      "  'recall', 'true', average, warn_for)\n",
      "/home/saurav/anaconda3/lib/python3.6/site-packages/sklearn/metrics/classification.py:1143: UndefinedMetricWarning: Precision and F-score are ill-defined and being set to 0.0 in samples with no predicted labels.\n",
      "  'precision', 'predicted', average, warn_for)\n",
      "/home/saurav/anaconda3/lib/python3.6/site-packages/sklearn/metrics/classification.py:1145: UndefinedMetricWarning: Recall and F-score are ill-defined and being set to 0.0 in samples with no true labels.\n",
      "  'recall', 'true', average, warn_for)\n"
     ]
    }
   ],
   "source": [
    "start = datetime.now()\n",
    "classifier_2 = OneVsRestClassifier(LogisticRegression(penalty='l1'), n_jobs=-1)\n",
    "classifier_2.fit(x_train_multilabel, y_train)\n",
    "predictions_2 = classifier_2.predict(x_test_multilabel)\n",
    "print(\"Accuracy :\",metrics.accuracy_score(y_test, predictions_2))\n",
    "print(\"Hamming loss \",metrics.hamming_loss(y_test,predictions_2))\n",
    "\n",
    "\n",
    "precision = precision_score(y_test, predictions_2, average='micro')\n",
    "recall = recall_score(y_test, predictions_2, average='micro')\n",
    "f1 = f1_score(y_test, predictions_2, average='micro')\n",
    " \n",
    "print(\"Micro-average quality numbers\")\n",
    "print(\"Precision: {:.4f}, Recall: {:.4f}, F1-measure: {:.4f}\".format(precision, recall, f1))\n",
    "\n",
    "precision = precision_score(y_test, predictions_2, average='macro')\n",
    "recall = recall_score(y_test, predictions_2, average='macro')\n",
    "f1 = f1_score(y_test, predictions_2, average='macro')\n",
    " \n",
    "print(\"Macro-average quality numbers\")\n",
    "print(\"Precision: {:.4f}, Recall: {:.4f}, F1-measure: {:.4f}\".format(precision, recall, f1))\n",
    "\n",
    "print (metrics.classification_report(y_test, predictions_2))\n",
    "print(\"Time taken to run this cell :\", datetime.now() - start)"
   ]
  },
  {
   "cell_type": "code",
   "execution_count": 15,
   "metadata": {},
   "outputs": [
    {
     "name": "stdout",
     "output_type": "stream",
     "text": [
      "(8000, 200)\n",
      "(8000, 500)\n"
     ]
    }
   ],
   "source": [
    "print(x_train_multilabel.shape)\n",
    "print(y_train.shape)"
   ]
  },
  {
   "cell_type": "code",
   "execution_count": null,
   "metadata": {},
   "outputs": [],
   "source": []
  },
  {
   "cell_type": "markdown",
   "metadata": {},
   "source": [
    "# GridSearchCV"
   ]
  },
  {
   "cell_type": "code",
   "execution_count": 16,
   "metadata": {},
   "outputs": [
    {
     "data": {
      "text/plain": [
       "GridSearchCV(cv=2, error_score='raise-deprecating',\n",
       "       estimator=OneVsRestClassifier(estimator=LogisticRegression(C=1.0, class_weight=None, dual=False, fit_intercept=True,\n",
       "          intercept_scaling=1, max_iter=100, multi_class='warn',\n",
       "          n_jobs=None, penalty='l1', random_state=None, solver='warn',\n",
       "          tol=0.0001, verbose=0, warm_start=False),\n",
       "          n_jobs=-1),\n",
       "       fit_params=None, iid='warn', n_jobs=-1,\n",
       "       param_grid={'estimator__C': [1e-05, 0.0001, 0.001, 0.01, 0.1, 1, 2, 10, 100, 10000, 100000, 50000, 55000, 600000, 65000, 100000]},\n",
       "       pre_dispatch='2*n_jobs', refit=True, return_train_score='warn',\n",
       "       scoring='f1_micro', verbose=0)"
      ]
     },
     "execution_count": 16,
     "metadata": {},
     "output_type": "execute_result"
    }
   ],
   "source": [
    "classifier_2 = OneVsRestClassifier(LogisticRegression(penalty='l1'),n_jobs=-1)\n",
    "alpha_list=[0.00001,0.0001,0.001,0.01,0.1,1,2,10,100,10000,100000,50000,55000,600000,65000,100000] #0.01,0.1,1,10,100,1000,10000]\n",
    "#alpha_list=[0.00001,0.0001,0.001]\n",
    "parameters = {'estimator__C':alpha_list}\n",
    "gs2 = GridSearchCV(classifier_2, param_grid = parameters, cv=2,scoring='f1_micro',n_jobs=-1)\n",
    "gs2.fit(x_train_multilabel, y_train)\n",
    "\n",
    "\n"
   ]
  },
  {
   "cell_type": "code",
   "execution_count": 20,
   "metadata": {},
   "outputs": [
    {
     "name": "stdout",
     "output_type": "stream",
     "text": [
      "Accuracy : 0.0545\n",
      "Hamming loss  0.005864\n"
     ]
    }
   ],
   "source": [
    "classifier_2 = OneVsRestClassifier(LogisticRegression(penalty='l1'),n_jobs=-1)\n",
    "classifier_2.fit(x_train_multilabel, y_train)\n",
    "predictions_2 = classifier_2.predict(x_test_multilabel)\n",
    "print(\"Accuracy :\",metrics.accuracy_score(y_test, predictions_2))\n",
    "print(\"Hamming loss \",metrics.hamming_loss(y_test,predictions_2))"
   ]
  },
  {
   "cell_type": "code",
   "execution_count": 21,
   "metadata": {},
   "outputs": [
    {
     "name": "stdout",
     "output_type": "stream",
     "text": [
      "0.11839579159962253\n",
      "{'estimator__C': 1}\n"
     ]
    }
   ],
   "source": [
    "print(gs2.best_score_)\n",
    "print(gs2.best_params_)"
   ]
  },
  {
   "cell_type": "code",
   "execution_count": 22,
   "metadata": {},
   "outputs": [
    {
     "data": {
      "text/html": [
       "<div>\n",
       "<style scoped>\n",
       "    .dataframe tbody tr th:only-of-type {\n",
       "        vertical-align: middle;\n",
       "    }\n",
       "\n",
       "    .dataframe tbody tr th {\n",
       "        vertical-align: top;\n",
       "    }\n",
       "\n",
       "    .dataframe thead th {\n",
       "        text-align: right;\n",
       "    }\n",
       "</style>\n",
       "<table border=\"1\" class=\"dataframe\">\n",
       "  <thead>\n",
       "    <tr style=\"text-align: right;\">\n",
       "      <th></th>\n",
       "      <th>mean_fit_time</th>\n",
       "      <th>std_fit_time</th>\n",
       "      <th>mean_score_time</th>\n",
       "      <th>std_score_time</th>\n",
       "      <th>param_estimator__C</th>\n",
       "      <th>params</th>\n",
       "      <th>split0_test_score</th>\n",
       "      <th>split1_test_score</th>\n",
       "      <th>mean_test_score</th>\n",
       "      <th>std_test_score</th>\n",
       "      <th>rank_test_score</th>\n",
       "      <th>split0_train_score</th>\n",
       "      <th>split1_train_score</th>\n",
       "      <th>mean_train_score</th>\n",
       "      <th>std_train_score</th>\n",
       "    </tr>\n",
       "  </thead>\n",
       "  <tbody>\n",
       "    <tr>\n",
       "      <th>0</th>\n",
       "      <td>3.989374</td>\n",
       "      <td>0.083900</td>\n",
       "      <td>0.354840</td>\n",
       "      <td>0.094048</td>\n",
       "      <td>1e-05</td>\n",
       "      <td>{'estimator__C': 1e-05}</td>\n",
       "      <td>0.00000</td>\n",
       "      <td>0.000000</td>\n",
       "      <td>0.000000</td>\n",
       "      <td>0.000000</td>\n",
       "      <td>14</td>\n",
       "      <td>0.000000</td>\n",
       "      <td>0.000000</td>\n",
       "      <td>0.000000</td>\n",
       "      <td>0.000000</td>\n",
       "    </tr>\n",
       "    <tr>\n",
       "      <th>1</th>\n",
       "      <td>3.927281</td>\n",
       "      <td>0.038706</td>\n",
       "      <td>0.267864</td>\n",
       "      <td>0.004782</td>\n",
       "      <td>0.0001</td>\n",
       "      <td>{'estimator__C': 0.0001}</td>\n",
       "      <td>0.00000</td>\n",
       "      <td>0.000000</td>\n",
       "      <td>0.000000</td>\n",
       "      <td>0.000000</td>\n",
       "      <td>14</td>\n",
       "      <td>0.000000</td>\n",
       "      <td>0.000000</td>\n",
       "      <td>0.000000</td>\n",
       "      <td>0.000000</td>\n",
       "    </tr>\n",
       "    <tr>\n",
       "      <th>2</th>\n",
       "      <td>9.700823</td>\n",
       "      <td>0.267445</td>\n",
       "      <td>0.375620</td>\n",
       "      <td>0.120557</td>\n",
       "      <td>0.001</td>\n",
       "      <td>{'estimator__C': 0.001}</td>\n",
       "      <td>0.00000</td>\n",
       "      <td>0.000000</td>\n",
       "      <td>0.000000</td>\n",
       "      <td>0.000000</td>\n",
       "      <td>14</td>\n",
       "      <td>0.000000</td>\n",
       "      <td>0.000000</td>\n",
       "      <td>0.000000</td>\n",
       "      <td>0.000000</td>\n",
       "    </tr>\n",
       "    <tr>\n",
       "      <th>3</th>\n",
       "      <td>9.593025</td>\n",
       "      <td>0.306578</td>\n",
       "      <td>0.239119</td>\n",
       "      <td>0.057310</td>\n",
       "      <td>0.01</td>\n",
       "      <td>{'estimator__C': 0.01}</td>\n",
       "      <td>0.03689</td>\n",
       "      <td>0.041368</td>\n",
       "      <td>0.039129</td>\n",
       "      <td>0.002239</td>\n",
       "      <td>13</td>\n",
       "      <td>0.033524</td>\n",
       "      <td>0.047789</td>\n",
       "      <td>0.040656</td>\n",
       "      <td>0.007132</td>\n",
       "    </tr>\n",
       "    <tr>\n",
       "      <th>4</th>\n",
       "      <td>10.851459</td>\n",
       "      <td>0.313321</td>\n",
       "      <td>0.544991</td>\n",
       "      <td>0.021015</td>\n",
       "      <td>0.1</td>\n",
       "      <td>{'estimator__C': 0.1}</td>\n",
       "      <td>0.09525</td>\n",
       "      <td>0.083054</td>\n",
       "      <td>0.089152</td>\n",
       "      <td>0.006098</td>\n",
       "      <td>4</td>\n",
       "      <td>0.109868</td>\n",
       "      <td>0.105780</td>\n",
       "      <td>0.107824</td>\n",
       "      <td>0.002044</td>\n",
       "    </tr>\n",
       "  </tbody>\n",
       "</table>\n",
       "</div>"
      ],
      "text/plain": [
       "   mean_fit_time  std_fit_time  mean_score_time  std_score_time  \\\n",
       "0       3.989374      0.083900         0.354840        0.094048   \n",
       "1       3.927281      0.038706         0.267864        0.004782   \n",
       "2       9.700823      0.267445         0.375620        0.120557   \n",
       "3       9.593025      0.306578         0.239119        0.057310   \n",
       "4      10.851459      0.313321         0.544991        0.021015   \n",
       "\n",
       "  param_estimator__C                    params  split0_test_score  \\\n",
       "0              1e-05   {'estimator__C': 1e-05}            0.00000   \n",
       "1             0.0001  {'estimator__C': 0.0001}            0.00000   \n",
       "2              0.001   {'estimator__C': 0.001}            0.00000   \n",
       "3               0.01    {'estimator__C': 0.01}            0.03689   \n",
       "4                0.1     {'estimator__C': 0.1}            0.09525   \n",
       "\n",
       "   split1_test_score  mean_test_score  std_test_score  rank_test_score  \\\n",
       "0           0.000000         0.000000        0.000000               14   \n",
       "1           0.000000         0.000000        0.000000               14   \n",
       "2           0.000000         0.000000        0.000000               14   \n",
       "3           0.041368         0.039129        0.002239               13   \n",
       "4           0.083054         0.089152        0.006098                4   \n",
       "\n",
       "   split0_train_score  split1_train_score  mean_train_score  std_train_score  \n",
       "0            0.000000            0.000000          0.000000         0.000000  \n",
       "1            0.000000            0.000000          0.000000         0.000000  \n",
       "2            0.000000            0.000000          0.000000         0.000000  \n",
       "3            0.033524            0.047789          0.040656         0.007132  \n",
       "4            0.109868            0.105780          0.107824         0.002044  "
      ]
     },
     "execution_count": 22,
     "metadata": {},
     "output_type": "execute_result"
    }
   ],
   "source": [
    "result = pd.DataFrame(gs2.cv_results_)\n",
    "result.head()"
   ]
  },
  {
   "cell_type": "code",
   "execution_count": 23,
   "metadata": {},
   "outputs": [
    {
     "data": {
      "image/png": "[encoded data removed]",
      "text/plain": [
       "<Figure size 432x288 with 1 Axes>"
      ]
     },
     "metadata": {},
     "output_type": "display_data"
    }
   ],
   "source": [
    "plt.plot(alpha_list,result['split0_test_score'],label='alpha')\n",
    "plt.title(\"error of alpha vs f1_score \")\n",
    "plt.xlabel('alpha_value')\n",
    "plt.ylabel('f1_score')\n",
    "plt.legend()\n",
    "plt.show()"
   ]
  },
  {
   "cell_type": "markdown",
   "metadata": {},
   "source": [
    "\n",
    "# SGD classifier"
   ]
  },
  {
   "cell_type": "code",
   "execution_count": 24,
   "metadata": {},
   "outputs": [],
   "source": [
    "classifier_3 = OneVsRestClassifier(linear_model.SGDClassifier(penalty='l1',loss=\"hinge\"),n_jobs=-1)"
   ]
  },
  {
   "cell_type": "code",
   "execution_count": 25,
   "metadata": {},
   "outputs": [],
   "source": [
    "alpha_list=[0.00001,0.0001,0.001,0.01,0.1,1,2,10,100,10000,100000,50000,55000,600000,65000,100000] #0.01,0.1,1,10,100,1000,10000]"
   ]
  },
  {
   "cell_type": "code",
   "execution_count": 26,
   "metadata": {},
   "outputs": [
    {
     "data": {
      "text/plain": [
       "GridSearchCV(cv=2, error_score='raise-deprecating',\n",
       "       estimator=OneVsRestClassifier(estimator=SGDClassifier(alpha=0.0001, average=False, class_weight=None,\n",
       "       early_stopping=False, epsilon=0.1, eta0=0.0, fit_intercept=True,\n",
       "       l1_ratio=0.15, learning_rate='optimal', loss='hinge', max_iter=None,\n",
       "       n_iter=None, n_iter_no_change=5, n_jobs=None, penalty='l1',\n",
       "       power_t=0.5, random_state=None, shuffle=True, tol=None,\n",
       "       validation_fraction=0.1, verbose=0, warm_start=False),\n",
       "          n_jobs=-1),\n",
       "       fit_params=None, iid='warn', n_jobs=-1,\n",
       "       param_grid={'estimator__alpha': [1e-05, 0.0001, 0.001, 0.01, 0.1, 1, 2, 10, 100, 10000, 100000, 50000, 55000, 600000, 65000, 100000]},\n",
       "       pre_dispatch='2*n_jobs', refit=True, return_train_score='warn',\n",
       "       scoring='f1_micro', verbose=0)"
      ]
     },
     "execution_count": 26,
     "metadata": {},
     "output_type": "execute_result"
    }
   ],
   "source": [
    "parameters = {'estimator__alpha':alpha_list}\n",
    "gs3 = GridSearchCV(classifier_3, param_grid = parameters, cv=2,scoring='f1_micro',n_jobs=-1)\n",
    "gs3.fit(x_train_multilabel, y_train)"
   ]
  },
  {
   "cell_type": "code",
   "execution_count": 27,
   "metadata": {},
   "outputs": [],
   "source": [
    "result = pd.DataFrame(gs3.cv_results_)"
   ]
  },
  {
   "cell_type": "code",
   "execution_count": 28,
   "metadata": {},
   "outputs": [
    {
     "data": {
      "image/png": "[encoded data removed]",
      "text/plain": [
       "<Figure size 432x288 with 1 Axes>"
      ]
     },
     "metadata": {},
     "output_type": "display_data"
    }
   ],
   "source": [
    "plt.plot(alpha_list,result['split0_test_score'],label='alpha')\n",
    "plt.title(\"error of alpha vs f1_score \")\n",
    "plt.xlabel('alpha_value')\n",
    "plt.ylabel('f1_score')\n",
    "plt.legend()\n",
    "plt.show()"
   ]
  },
  {
   "cell_type": "markdown",
   "metadata": {},
   "source": [
    "Conclusion"
   ]
  },
  {
   "cell_type": "code",
   "execution_count": 29,
   "metadata": {},
   "outputs": [],
   "source": [
    "from prettytable import PrettyTable\n",
    "x = PrettyTable()"
   ]
  },
  {
   "cell_type": "code",
   "execution_count": 30,
   "metadata": {},
   "outputs": [],
   "source": [
    "x.field_names = [\"model_name\", \"best alpha\"]"
   ]
  },
  {
   "cell_type": "code",
   "execution_count": 31,
   "metadata": {},
   "outputs": [],
   "source": [
    "x.add_row([\"BOW\",gs2.best_params_])\n",
    "x.add_row([\"sgd\",gs3.best_params_])"
   ]
  },
  {
   "cell_type": "code",
   "execution_count": 32,
   "metadata": {},
   "outputs": [
    {
     "name": "stdout",
     "output_type": "stream",
     "text": [
      "+------------+-----------------------------+\n",
      "| model_name |          best alpha         |\n",
      "+------------+-----------------------------+\n",
      "|    BOW     |     {'estimator__C': 1}     |\n",
      "|    sgd     | {'estimator__alpha': 0.001} |\n",
      "+------------+-----------------------------+\n"
     ]
    }
   ],
   "source": [
    "print(x)"
   ]
  },
  {
   "cell_type": "markdown",
   "metadata": {},
   "source": [
    "# RandomForest"
   ]
  },
  {
   "cell_type": "code",
   "execution_count": 33,
   "metadata": {},
   "outputs": [],
   "source": [
    "from sklearn.ensemble import RandomForestClassifier"
   ]
  },
  {
   "cell_type": "code",
   "execution_count": 34,
   "metadata": {},
   "outputs": [],
   "source": [
    "classifier_4 = OneVsRestClassifier(RandomForestClassifier(n_estimators = 100,max_depth=50,n_jobs = -1,class_weight=\"balanced\"),n_jobs = -1)"
   ]
  },
  {
   "cell_type": "code",
   "execution_count": 35,
   "metadata": {},
   "outputs": [
    {
     "data": {
      "text/plain": [
       "OneVsRestClassifier(estimator=RandomForestClassifier(bootstrap=True, class_weight='balanced',\n",
       "            criterion='gini', max_depth=50, max_features='auto',\n",
       "            max_leaf_nodes=None, min_impurity_decrease=0.0,\n",
       "            min_impurity_split=None, min_samples_leaf=1,\n",
       "            min_samples_split=2, min_weight_fraction_leaf=0.0,\n",
       "            n_estimators=100, n_jobs=-1, oob_score=False,\n",
       "            random_state=None, verbose=0, warm_start=False),\n",
       "          n_jobs=-1)"
      ]
     },
     "execution_count": 35,
     "metadata": {},
     "output_type": "execute_result"
    }
   ],
   "source": [
    "classifier_4.fit(x_train_multilabel, y_train)"
   ]
  },
  {
   "cell_type": "code",
   "execution_count": 36,
   "metadata": {},
   "outputs": [
    {
     "name": "stdout",
     "output_type": "stream",
     "text": [
      "Accuracy for test: 0.0685\n",
      "Hamming loss for test 0.003861\n"
     ]
    }
   ],
   "source": [
    "predictions_4= classifier_4.predict(x_test_multilabel)\n",
    "print(\"Accuracy for test:\",metrics.accuracy_score(y_test, predictions_4))\n",
    "print(\"Hamming loss for test\",metrics.hamming_loss(y_test,predictions_4))"
   ]
  },
  {
   "cell_type": "code",
   "execution_count": 38,
   "metadata": {},
   "outputs": [
    {
     "name": "stdout",
     "output_type": "stream",
     "text": [
      "Accuracy for train: 0.984375\n",
      "Hamming loss for train 3.525e-05\n"
     ]
    }
   ],
   "source": [
    "predictions_4= classifier_4.predict(x_train_multilabel)\n",
    "print(\"Accuracy for train:\",metrics.accuracy_score(y_train, predictions_4))\n",
    "print(\"Hamming loss for train\",metrics.hamming_loss(y_train,predictions_4))\n",
    "\n",
    "\n"
   ]
  },
  {
   "cell_type": "markdown",
   "metadata": {},
   "source": [
    "# gradientBoosting"
   ]
  },
  {
   "cell_type": "code",
   "execution_count": 39,
   "metadata": {},
   "outputs": [],
   "source": [
    "import xgboost as xgb"
   ]
  },
  {
   "cell_type": "code",
   "execution_count": 40,
   "metadata": {},
   "outputs": [
    {
     "data": {
      "text/plain": [
       "OneVsRestClassifier(estimator=XGBRegressor(base_score=0.5, booster='gbtree', colsample_bylevel=1,\n",
       "       colsample_bytree=1, gamma=0, learning_rate=0.1, max_delta_step=0,\n",
       "       max_depth=10, min_child_weight=1, missing=None, n_estimators=30,\n",
       "       n_jobs=1, nthread=None, objective='reg:linear', random_state=0,\n",
       "       reg_alpha=0, reg_lambda=1, scale_pos_weight=1, seed=None,\n",
       "       silent=True, subsample=1),\n",
       "          n_jobs=-1)"
      ]
     },
     "execution_count": 40,
     "metadata": {},
     "output_type": "execute_result"
    }
   ],
   "source": [
    "xgb_reg = xgb.XGBRegressor(n_estimators=100, max_depth=3)\n",
    "classifier_5 = OneVsRestClassifier(xgb.XGBRegressor(n_estimators=30, max_depth=10),n_jobs = -1)\n",
    "classifier_5.fit(x_train_multilabel, y_train)"
   ]
  },
  {
   "cell_type": "code",
   "execution_count": 41,
   "metadata": {},
   "outputs": [
    {
     "name": "stdout",
     "output_type": "stream",
     "text": [
      "Accuracy for test: 0.0415\n",
      "Hamming loss for test 0.005991\n"
     ]
    }
   ],
   "source": [
    "predictions_5 = classifier_5.predict(x_test_multilabel)\n",
    "print(\"Accuracy for test:\",metrics.accuracy_score(y_test, predictions_5))\n",
    "print(\"Hamming loss for test\",metrics.hamming_loss(y_test,predictions_5))"
   ]
  },
  {
   "cell_type": "code",
   "execution_count": 42,
   "metadata": {},
   "outputs": [
    {
     "name": "stdout",
     "output_type": "stream",
     "text": [
      "Accuracy for train: 0.6985\n",
      "Hamming loss for train 0.0007975\n"
     ]
    }
   ],
   "source": [
    "predictions_5 = classifier_5.predict(x_train_multilabel)\n",
    "print(\"Accuracy for train:\",metrics.accuracy_score(y_train, predictions_5))\n",
    "print(\"Hamming loss for train\",metrics.hamming_loss(y_train,predictions_5))"
   ]
  },
  {
   "cell_type": "code",
   "execution_count": 47,
   "metadata": {},
   "outputs": [
    {
     "name": "stdout",
     "output_type": "stream",
     "text": [
      "Micro-average quality numbers\n",
      "Precision: 0.0062, Recall: 0.0041, F1-measure: 0.0045\n"
     ]
    },
    {
     "name": "stderr",
     "output_type": "stream",
     "text": [
      "/home/saurav/anaconda3/lib/python3.6/site-packages/sklearn/metrics/classification.py:1143: UndefinedMetricWarning: Precision is ill-defined and being set to 0.0 in labels with no predicted samples.\n",
      "  'precision', 'predicted', average, warn_for)\n",
      "/home/saurav/anaconda3/lib/python3.6/site-packages/sklearn/metrics/classification.py:1145: UndefinedMetricWarning: Recall is ill-defined and being set to 0.0 in labels with no true samples.\n",
      "  'recall', 'true', average, warn_for)\n"
     ]
    },
    {
     "name": "stdout",
     "output_type": "stream",
     "text": [
      "Macro-average quality numbers\n",
      "Precision: 0.0062, Recall: 0.0041, F1-measure: 0.0045\n"
     ]
    },
    {
     "name": "stderr",
     "output_type": "stream",
     "text": [
      "/home/saurav/anaconda3/lib/python3.6/site-packages/sklearn/metrics/classification.py:1143: UndefinedMetricWarning: F-score is ill-defined and being set to 0.0 in labels with no predicted samples.\n",
      "  'precision', 'predicted', average, warn_for)\n",
      "/home/saurav/anaconda3/lib/python3.6/site-packages/sklearn/metrics/classification.py:1145: UndefinedMetricWarning: F-score is ill-defined and being set to 0.0 in labels with no true samples.\n",
      "  'recall', 'true', average, warn_for)\n"
     ]
    }
   ],
   "source": [
    "print(\"Micro-average quality numbers\")\n",
    "print(\"Precision: {:.4f}, Recall: {:.4f}, F1-measure: {:.4f}\".format(precision, recall, f1))\n",
    "\n",
    "precision = precision_score(y_test, classifier_5.predict(x_test_multilabel), average='macro')\n",
    "recall = recall_score(y_test, classifier_5.predict(x_test_multilabel), average='macro')\n",
    "f1 = f1_score(y_test,  classifier_5.predict(x_test_multilabel), average='macro')\n",
    " \n",
    "print(\"Macro-average quality numbers\")\n",
    "print(\"Precision: {:.4f}, Recall: {:.4f}, F1-measure: {:.4f}\".format(precision, recall, f1))\n"
   ]
  },
  {
   "cell_type": "markdown",
   "metadata": {},
   "source": [
    "# conclusion"
   ]
  },
  {
   "cell_type": "code",
   "execution_count": null,
   "metadata": {},
   "outputs": [],
   "source": []
  },
  {
   "cell_type": "markdown",
   "metadata": {},
   "source": [
    "1) i tried with sgd classifier with bow and n-grams=(1,4)\n",
    "2) i have used logistic regression with n-grams=(1,4) and tune then using gridsearch cv with various range of alpha\n",
    "3) i have used sgd classiier along with gridsearch  and tune then with various range of alpha\n",
    "4) Accuracy does not seems to be good, so i used an ensemble model which is random forest(bagging approach)\n",
    " which decreases training time. When i used class_weight = \"balanced\" , then the accuracy of the model decreases and hamming loss increases.\n",
    "5) After that i tried with gradient boosting , which is booting method with less number of depth of tree, so that model becomes underfit which is high bias and low variance."
   ]
  },
  {
   "cell_type": "markdown",
   "metadata": {},
   "source": []
  },
  {
   "cell_type": "markdown",
   "metadata": {},
   "source": []
  },
  {
   "cell_type": "markdown",
   "metadata": {},
   "source": []
  },
  {
   "cell_type": "markdown",
   "metadata": {},
   "source": []
  },
  {
   "cell_type": "code",
   "execution_count": null,
   "metadata": {},
   "outputs": [],
   "source": []
  },
  {
   "cell_type": "code",
   "execution_count": null,
   "metadata": {},
   "outputs": [],
   "source": []
  }
 ],
 "metadata": {
  "kernelspec": {
   "display_name": "Python 3",
   "language": "python",
   "name": "python3"
  },
  "language_info": {
   "codemirror_mode": {
    "name": "ipython",
    "version": 3
   },
   "file_extension": ".py",
   "mimetype": "text/x-python",
   "name": "python",
   "nbconvert_exporter": "python",
   "pygments_lexer": "ipython3",
   "version": "3.6.5"
  }
 },
 "nbformat": 4,
 "nbformat_minor": 2
}
